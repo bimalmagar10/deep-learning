{
  "nbformat": 4,
  "nbformat_minor": 0,
  "metadata": {
    "colab": {
      "provenance": [],
      "gpuType": "T4"
    },
    "kernelspec": {
      "name": "python3",
      "display_name": "Python 3"
    },
    "language_info": {
      "name": "python"
    },
    "accelerator": "GPU"
  },
  "cells": [
    {
      "cell_type": "code",
      "source": [
        "from google.colab import drive\n",
        "drive.mount('/content/drive')"
      ],
      "metadata": {
        "colab": {
          "base_uri": "https://localhost:8080/"
        },
        "id": "h_h59jTSC7xC",
        "outputId": "9c10614d-9518-415e-b0b0-a7191a7a164a"
      },
      "execution_count": 3,
      "outputs": [
        {
          "output_type": "stream",
          "name": "stdout",
          "text": [
            "Mounted at /content/drive\n"
          ]
        }
      ]
    },
    {
      "cell_type": "code",
      "source": [
        "names_file_path = \"/content/drive/MyDrive/bigram/nepali_names.txt\""
      ],
      "metadata": {
        "id": "Ku0DdIvxDUKQ"
      },
      "execution_count": 4,
      "outputs": []
    },
    {
      "cell_type": "code",
      "source": [
        "words = open(names_file_path,'r').read().splitlines()\n"
      ],
      "metadata": {
        "id": "xNFZ2ypBEFia"
      },
      "execution_count": 5,
      "outputs": []
    },
    {
      "cell_type": "code",
      "source": [
        "words = [word.lower() for word in words if word.isalpha()]\n",
        "words"
      ],
      "metadata": {
        "id": "qAF17fhJEOy5",
        "colab": {
          "base_uri": "https://localhost:8080/"
        },
        "outputId": "0e39be17-b710-4b99-a1d5-cbb746e89905"
      },
      "execution_count": 6,
      "outputs": [
        {
          "output_type": "execute_result",
          "data": {
            "text/plain": [
              "['aaarti',\n",
              " 'aabha',\n",
              " 'aabhas',\n",
              " 'aabhash',\n",
              " 'aabhesh',\n",
              " 'aabhusan',\n",
              " 'aabhushan',\n",
              " 'aabish',\n",
              " 'aabishkar',\n",
              " 'aabiskar',\n",
              " 'aabriti',\n",
              " 'aadarsh',\n",
              " 'aadarsha',\n",
              " 'aadarshini',\n",
              " 'aadesh',\n",
              " 'aadil',\n",
              " 'aadip',\n",
              " 'aadish',\n",
              " 'aadit',\n",
              " 'aaditya',\n",
              " 'aadya',\n",
              " 'aafaque',\n",
              " 'aagat',\n",
              " 'aagnya',\n",
              " 'aagya',\n",
              " 'aahana',\n",
              " 'aaisha',\n",
              " 'aaishka',\n",
              " 'aaista',\n",
              " 'aaja',\n",
              " 'aaju',\n",
              " 'aakanchhya',\n",
              " 'aakar',\n",
              " 'aakarshan',\n",
              " 'aakash',\n",
              " 'aakashdip',\n",
              " 'aakish',\n",
              " 'aakreeti',\n",
              " 'aakrish',\n",
              " 'aakrishta',\n",
              " 'aakrist',\n",
              " 'aakrit',\n",
              " 'aakritee',\n",
              " 'aakriti',\n",
              " 'aakshan',\n",
              " 'aalok',\n",
              " 'aaman',\n",
              " 'aamir',\n",
              " 'aamod',\n",
              " 'aamosh',\n",
              " 'aanal',\n",
              " 'aanand',\n",
              " 'aananda',\n",
              " 'aang',\n",
              " 'aangnima',\n",
              " 'aanish',\n",
              " 'aanshu',\n",
              " 'aanya',\n",
              " 'aaradhana',\n",
              " 'aarambh',\n",
              " 'aarati',\n",
              " 'aarif',\n",
              " 'aarjabi',\n",
              " 'aarjan',\n",
              " 'aarjani',\n",
              " 'aarjawee',\n",
              " 'aarju',\n",
              " 'aarjya',\n",
              " 'aarogya',\n",
              " 'aarohan',\n",
              " 'aarohi',\n",
              " 'aaron',\n",
              " 'aarshika',\n",
              " 'aarshiya',\n",
              " 'aarti',\n",
              " 'aartish',\n",
              " 'aarus',\n",
              " 'aarya',\n",
              " 'aaryan',\n",
              " 'aarzoo',\n",
              " 'aash',\n",
              " 'aasha',\n",
              " 'aasharam',\n",
              " 'aashaya',\n",
              " 'aashi',\n",
              " 'aashies',\n",
              " 'aashif',\n",
              " 'aashih',\n",
              " 'aashik',\n",
              " 'aashim',\n",
              " 'aashima',\n",
              " 'aashiq',\n",
              " 'aashis',\n",
              " 'aashish',\n",
              " 'aashisna',\n",
              " 'aashitosh',\n",
              " 'aashiya',\n",
              " 'aashma',\n",
              " 'aashraf',\n",
              " 'aashray',\n",
              " 'aashraya',\n",
              " 'aashriti',\n",
              " 'aashu',\n",
              " 'aashutoash',\n",
              " 'aashutosh',\n",
              " 'aasis',\n",
              " 'aasish',\n",
              " 'aasma',\n",
              " 'aastha',\n",
              " 'aastik',\n",
              " 'aasutosh',\n",
              " 'aatish',\n",
              " 'aatma',\n",
              " 'aavaas',\n",
              " 'aavas',\n",
              " 'aavash',\n",
              " 'aavishkar',\n",
              " 'aawaz',\n",
              " 'aawish',\n",
              " 'aayam',\n",
              " 'aayeesha',\n",
              " 'aayesha',\n",
              " 'aayoush',\n",
              " 'aaysha',\n",
              " 'aayush',\n",
              " 'aayusha',\n",
              " 'aayushi',\n",
              " 'aayushka',\n",
              " 'aayushma',\n",
              " 'aayushman',\n",
              " 'aazad',\n",
              " 'abadh',\n",
              " 'abadhesh',\n",
              " 'abani',\n",
              " 'abanish',\n",
              " 'abarodh',\n",
              " 'abashesh',\n",
              " 'abcon',\n",
              " 'abdhesh',\n",
              " 'abdul',\n",
              " 'abdullah',\n",
              " 'abdur',\n",
              " 'abdussabood',\n",
              " 'abeen',\n",
              " 'abeer',\n",
              " 'abesh',\n",
              " 'abha',\n",
              " 'abhar',\n",
              " 'abhas',\n",
              " 'abhash',\n",
              " 'abhay',\n",
              " 'abhaya',\n",
              " 'abhayaraj',\n",
              " 'abheek',\n",
              " 'abhi',\n",
              " 'abhidan',\n",
              " 'abhigya',\n",
              " 'abhijan',\n",
              " 'abhijaya',\n",
              " 'abhijeet',\n",
              " 'abhijet',\n",
              " 'abhijit',\n",
              " 'abhik',\n",
              " 'abhilash',\n",
              " 'abhilasha',\n",
              " 'abhilekh',\n",
              " 'abhilesh',\n",
              " 'abhiman',\n",
              " 'abhimannu',\n",
              " 'abhimannyu',\n",
              " 'abhimanu',\n",
              " 'abhimanyu',\n",
              " 'abhimat',\n",
              " 'abhinab',\n",
              " 'abhinam',\n",
              " 'abhinanda',\n",
              " 'abhinandan',\n",
              " 'abhinash',\n",
              " 'abhinashi',\n",
              " 'abhinav',\n",
              " 'abhinaw',\n",
              " 'abhinay',\n",
              " 'abhinaya',\n",
              " 'abhinesh',\n",
              " 'abhinit',\n",
              " 'abhinithi',\n",
              " 'abhirath',\n",
              " 'abhiru',\n",
              " 'abhirup',\n",
              " 'abhisek',\n",
              " 'abhisekh',\n",
              " 'abhish',\n",
              " 'abhishek',\n",
              " 'abhishekanand',\n",
              " 'abhishekh',\n",
              " 'abhishes',\n",
              " 'abhishesh',\n",
              " 'abhishikha',\n",
              " 'abhishree',\n",
              " 'abhishrii',\n",
              " 'abhishwor',\n",
              " 'abhiskar',\n",
              " 'abhiyan',\n",
              " 'abhiyush',\n",
              " 'abhushan',\n",
              " 'abhya',\n",
              " 'abi',\n",
              " 'abichar',\n",
              " 'abid',\n",
              " 'abidh',\n",
              " 'abidit',\n",
              " 'abijit',\n",
              " 'abilash',\n",
              " 'abiman',\n",
              " 'abin',\n",
              " 'abinab',\n",
              " 'abinash',\n",
              " 'abinashi',\n",
              " 'abinath',\n",
              " 'abindra',\n",
              " 'abinish',\n",
              " 'abiral',\n",
              " 'abirbhav',\n",
              " 'abisek',\n",
              " 'abisekh',\n",
              " 'abish',\n",
              " 'abisha',\n",
              " 'abishec',\n",
              " 'abishek',\n",
              " 'abishesh',\n",
              " 'abishkar',\n",
              " 'abiskar',\n",
              " 'abit',\n",
              " 'ablok',\n",
              " 'abnish',\n",
              " 'abodh',\n",
              " 'abraham',\n",
              " 'abriti',\n",
              " 'absar',\n",
              " 'ac',\n",
              " 'acchyut',\n",
              " 'achal',\n",
              " 'achalshail',\n",
              " 'achana',\n",
              " 'acharya',\n",
              " 'achhami',\n",
              " 'achiyut',\n",
              " 'achut',\n",
              " 'achutam',\n",
              " 'achyot',\n",
              " 'achyut',\n",
              " 'achyuta',\n",
              " 'achyutam',\n",
              " 'active',\n",
              " 'adarsh',\n",
              " 'adarsha',\n",
              " 'adeeti',\n",
              " 'adesh',\n",
              " 'adhar',\n",
              " 'adheesh',\n",
              " 'adhikar',\n",
              " 'adhikari',\n",
              " 'adhip',\n",
              " 'adhiraj',\n",
              " 'adhish',\n",
              " 'adhista',\n",
              " 'adida',\n",
              " 'adipti',\n",
              " 'adish',\n",
              " 'adist',\n",
              " 'adit',\n",
              " 'aditi',\n",
              " 'adity',\n",
              " 'aditya',\n",
              " 'adwait',\n",
              " 'adwitiya',\n",
              " 'aelish',\n",
              " 'aeron',\n",
              " 'afjal',\n",
              " 'afreen',\n",
              " 'afroj',\n",
              " 'aftab',\n",
              " 'afzal',\n",
              " 'agam',\n",
              " 'agaman',\n",
              " 'agastya',\n",
              " 'agni',\n",
              " 'agnidhar',\n",
              " 'agrahari',\n",
              " 'agraj',\n",
              " 'agreem',\n",
              " 'agrim',\n",
              " 'agya',\n",
              " 'ahamad',\n",
              " 'ahijit',\n",
              " 'ahilan',\n",
              " 'ahmed',\n",
              " 'ahsit',\n",
              " 'ai',\n",
              " 'ain',\n",
              " 'ainesh',\n",
              " 'aisha',\n",
              " 'aishorya',\n",
              " 'aishwarya',\n",
              " 'aishworya',\n",
              " 'aising',\n",
              " 'ajad',\n",
              " 'ajaj',\n",
              " 'ajanta',\n",
              " 'ajar',\n",
              " 'ajay',\n",
              " 'ajaya',\n",
              " 'ajeeb',\n",
              " 'ajeena',\n",
              " 'ajeet',\n",
              " 'ajeev',\n",
              " 'ajendra',\n",
              " 'ajesh',\n",
              " 'ajeya',\n",
              " 'ajib',\n",
              " 'ajijul',\n",
              " 'ajina',\n",
              " 'ajindra',\n",
              " 'ajit',\n",
              " 'ajita',\n",
              " 'ajitesh',\n",
              " 'ajmat',\n",
              " 'ajoy',\n",
              " 'ajul',\n",
              " 'ajya',\n",
              " 'akal',\n",
              " 'akalesh',\n",
              " 'akanksha',\n",
              " 'akankshya',\n",
              " 'akansha',\n",
              " 'akarshan',\n",
              " 'akash',\n",
              " 'akashdip',\n",
              " 'akbal',\n",
              " 'akendra',\n",
              " 'akesh',\n",
              " 'akhalesh',\n",
              " 'akhanda',\n",
              " 'akhatar',\n",
              " 'akhil',\n",
              " 'akhilesh',\n",
              " 'akhileshwar',\n",
              " 'akhlaque',\n",
              " 'akikaran',\n",
              " 'akil',\n",
              " 'akkal',\n",
              " 'aklesh',\n",
              " 'akram',\n",
              " 'akramul',\n",
              " 'akreeti',\n",
              " 'akrish',\n",
              " 'akrit',\n",
              " 'akritee',\n",
              " 'akriti',\n",
              " 'akrity',\n",
              " 'akshar',\n",
              " 'akshata',\n",
              " 'akshay',\n",
              " 'akshaya',\n",
              " 'akshya',\n",
              " 'akshyata',\n",
              " 'akshyeta',\n",
              " 'alam',\n",
              " 'alan',\n",
              " 'alankar',\n",
              " 'alash',\n",
              " 'albij',\n",
              " 'albin',\n",
              " 'albira',\n",
              " 'aleana',\n",
              " 'aleena',\n",
              " 'alek',\n",
              " 'alekh',\n",
              " 'alen',\n",
              " 'alena',\n",
              " 'alence',\n",
              " 'alex',\n",
              " 'alexi',\n",
              " 'alfa',\n",
              " 'alfaz',\n",
              " 'ali',\n",
              " 'alice',\n",
              " 'alija',\n",
              " 'alima',\n",
              " 'alina',\n",
              " 'alis',\n",
              " 'alisa',\n",
              " 'alish',\n",
              " 'alisha',\n",
              " 'alishma',\n",
              " 'alita',\n",
              " 'aliz',\n",
              " 'aliza',\n",
              " 'aljan',\n",
              " 'aljina',\n",
              " 'alka',\n",
              " 'alkaraj',\n",
              " 'alkesh',\n",
              " 'allan',\n",
              " 'allon',\n",
              " 'almin',\n",
              " 'aloj',\n",
              " 'alok',\n",
              " 'aloke',\n",
              " 'alora',\n",
              " 'alpana',\n",
              " 'alpha',\n",
              " 'alson',\n",
              " 'altaf',\n",
              " 'alvira',\n",
              " 'alwin',\n",
              " 'amal',\n",
              " 'amalendu',\n",
              " 'aman',\n",
              " 'amanul',\n",
              " 'amar',\n",
              " 'amardeep',\n",
              " 'amardip',\n",
              " 'amarendra',\n",
              " 'amaresh',\n",
              " 'amarjeet',\n",
              " 'amarnath',\n",
              " 'amatya',\n",
              " 'ambar',\n",
              " 'ambaris',\n",
              " 'amber',\n",
              " 'ambesh',\n",
              " 'ambika',\n",
              " 'ambikesh',\n",
              " 'ambish',\n",
              " 'ambrish',\n",
              " 'ameer',\n",
              " 'ameresh',\n",
              " 'amesh',\n",
              " 'amien',\n",
              " 'amik',\n",
              " 'amin',\n",
              " 'amina',\n",
              " 'amindra',\n",
              " 'amir',\n",
              " 'amira',\n",
              " 'amiri',\n",
              " 'amirinarayan',\n",
              " 'amish',\n",
              " 'amisha',\n",
              " 'amishan',\n",
              " 'amit',\n",
              " 'amita',\n",
              " 'amitab',\n",
              " 'amitabh',\n",
              " 'amitananda',\n",
              " 'amlesh',\n",
              " 'amnish',\n",
              " 'amod',\n",
              " 'amoda',\n",
              " 'amogh',\n",
              " 'amogha',\n",
              " 'amol',\n",
              " 'amool',\n",
              " 'amosh',\n",
              " 'amrambha',\n",
              " 'amrendra',\n",
              " 'amresh',\n",
              " 'amrish',\n",
              " 'amrit',\n",
              " 'amrita',\n",
              " 'amshu',\n",
              " 'amtesh',\n",
              " 'amuda',\n",
              " 'amul',\n",
              " 'amulya',\n",
              " 'amun',\n",
              " 'anami',\n",
              " 'anamika',\n",
              " 'anamol',\n",
              " 'anand',\n",
              " 'ananda',\n",
              " 'ananga',\n",
              " 'anankit',\n",
              " 'anant',\n",
              " 'ananta',\n",
              " 'ananya',\n",
              " 'anarullah',\n",
              " 'anav',\n",
              " 'anbi',\n",
              " 'anchal',\n",
              " 'anchita',\n",
              " 'andolan',\n",
              " 'andrew',\n",
              " 'andy',\n",
              " 'aneesh',\n",
              " 'aneet',\n",
              " 'anendra',\n",
              " 'anesh',\n",
              " 'aney',\n",
              " 'ang',\n",
              " 'anga',\n",
              " 'angad',\n",
              " 'angal',\n",
              " 'angana',\n",
              " 'angash',\n",
              " 'angeela',\n",
              " 'angel',\n",
              " 'angela',\n",
              " 'angila',\n",
              " 'angira',\n",
              " 'angisha',\n",
              " 'angishor',\n",
              " 'angkit',\n",
              " 'angnima',\n",
              " 'angshu',\n",
              " 'angur',\n",
              " 'anib',\n",
              " 'anie',\n",
              " 'anij',\n",
              " 'anika',\n",
              " 'aniket',\n",
              " 'anikit',\n",
              " 'anil',\n",
              " 'anila',\n",
              " 'anima',\n",
              " 'animesh',\n",
              " 'anin',\n",
              " 'anindya',\n",
              " 'anir',\n",
              " 'anirodh',\n",
              " 'anirudh',\n",
              " 'anirudra',\n",
              " 'anis',\n",
              " 'anish',\n",
              " 'anisha',\n",
              " 'anishma',\n",
              " 'anit',\n",
              " 'anita',\n",
              " 'anjal',\n",
              " 'anjala',\n",
              " 'anjalee',\n",
              " 'anjali',\n",
              " 'anjan',\n",
              " 'anjana',\n",
              " 'anjani',\n",
              " 'anjay',\n",
              " 'anjaya',\n",
              " 'anjeela',\n",
              " 'anjeena',\n",
              " 'anjeep',\n",
              " 'anjel',\n",
              " 'anjesh',\n",
              " 'anjil',\n",
              " 'anjila',\n",
              " 'anjit',\n",
              " 'anjita',\n",
              " 'anju',\n",
              " 'anjula',\n",
              " 'anjuli',\n",
              " 'anjushri',\n",
              " 'ankeet',\n",
              " 'ankesh',\n",
              " 'ankit',\n",
              " 'ankita',\n",
              " 'anku',\n",
              " 'ankur',\n",
              " 'ankush',\n",
              " 'anmol',\n",
              " 'anna',\n",
              " 'annant',\n",
              " 'annanta',\n",
              " 'annie',\n",
              " 'annu',\n",
              " 'anny',\n",
              " 'anoj',\n",
              " 'anoop',\n",
              " 'anouska',\n",
              " 'anrood',\n",
              " 'ansan',\n",
              " 'anshab',\n",
              " 'anshav',\n",
              " 'anshika',\n",
              " 'anshu',\n",
              " 'anshul',\n",
              " 'anshumala',\n",
              " 'anshumalee',\n",
              " 'anshumali',\n",
              " 'anshuman',\n",
              " 'ansu',\n",
              " 'ansuya',\n",
              " 'answiya',\n",
              " 'antariksha',\n",
              " 'antima',\n",
              " 'antisangarsha',\n",
              " 'anu',\n",
              " 'anubhab',\n",
              " 'anubhav',\n",
              " 'anubhuti',\n",
              " 'anudeep',\n",
              " 'anugya',\n",
              " 'anuj',\n",
              " 'anuja',\n",
              " 'anujan',\n",
              " 'anuka',\n",
              " 'anukram',\n",
              " 'anukraman',\n",
              " 'anukshya',\n",
              " 'anukul',\n",
              " 'anumeha',\n",
              " 'anumita',\n",
              " 'anumuni',\n",
              " 'anup',\n",
              " 'anupa',\n",
              " 'anupam',\n",
              " 'anupama',\n",
              " 'anupma',\n",
              " 'anupras',\n",
              " 'anupriya',\n",
              " 'anur',\n",
              " 'anura',\n",
              " 'anuraag',\n",
              " 'anuradha',\n",
              " 'anurag',\n",
              " 'anurodh',\n",
              " 'anurudh',\n",
              " 'anurudra',\n",
              " 'anush',\n",
              " 'anusha',\n",
              " 'anusharan',\n",
              " 'anusheel',\n",
              " 'anushesh',\n",
              " 'anushikha',\n",
              " 'anushil',\n",
              " 'anushiya',\n",
              " 'anushka',\n",
              " 'anushma',\n",
              " 'anushree',\n",
              " 'anushreta',\n",
              " 'anushri',\n",
              " 'anushriya',\n",
              " 'anushruti',\n",
              " 'anuska',\n",
              " 'anusri',\n",
              " 'anusuman',\n",
              " 'anusuya',\n",
              " 'anutha',\n",
              " 'anvesh',\n",
              " 'anwar',\n",
              " 'anwesh',\n",
              " 'anweshak',\n",
              " 'anzoo',\n",
              " 'apar',\n",
              " 'aparajita',\n",
              " 'aparna',\n",
              " 'apeal',\n",
              " 'apechhaya',\n",
              " 'apeckchya',\n",
              " 'apekchhya',\n",
              " 'apekhya',\n",
              " 'apekshya',\n",
              " 'apeshhaya',\n",
              " 'apil',\n",
              " 'aplesh',\n",
              " 'apoorba',\n",
              " 'apoorva',\n",
              " 'appu',\n",
              " 'apsa',\n",
              " 'apsana',\n",
              " 'apsara',\n",
              " 'apshara',\n",
              " 'apurba',\n",
              " 'apurva',\n",
              " 'arabind',\n",
              " 'arabinda',\n",
              " 'aradhana',\n",
              " 'aradhya',\n",
              " 'araju',\n",
              " 'araksha',\n",
              " 'arambha',\n",
              " 'aranjali',\n",
              " 'arati',\n",
              " 'arbin',\n",
              " 'arbina',\n",
              " 'arbind',\n",
              " 'arbinda',\n",
              " 'arbindra',\n",
              " 'archana',\n",
              " 'archita',\n",
              " 'archu',\n",
              " 'ardeep',\n",
              " 'argen',\n",
              " 'arhan',\n",
              " 'arhant',\n",
              " 'arica',\n",
              " 'aries',\n",
              " 'arif',\n",
              " 'arihant',\n",
              " 'arika',\n",
              " 'arina',\n",
              " 'arishma',\n",
              " 'ariv',\n",
              " 'arjab',\n",
              " 'arjan',\n",
              " 'arjani',\n",
              " 'arjesh',\n",
              " 'arjina',\n",
              " 'arjit',\n",
              " 'arju',\n",
              " 'arjun',\n",
              " 'arkeet',\n",
              " 'arma',\n",
              " 'armaan',\n",
              " 'arman',\n",
              " 'armila',\n",
              " 'arna',\n",
              " 'arnab',\n",
              " 'arnav',\n",
              " 'arni',\n",
              " 'arnisha',\n",
              " 'arnold',\n",
              " 'arogya',\n",
              " 'aroj',\n",
              " 'aron',\n",
              " 'arpan',\n",
              " 'arpana',\n",
              " 'arpit',\n",
              " 'arpita',\n",
              " 'arshad',\n",
              " 'arshiya',\n",
              " 'arti',\n",
              " 'arun',\n",
              " 'aruna',\n",
              " 'arunav',\n",
              " 'aruni',\n",
              " 'arunima',\n",
              " 'arush',\n",
              " 'arusha',\n",
              " 'arvind',\n",
              " 'arwin',\n",
              " 'arwind',\n",
              " 'arya',\n",
              " 'aryal',\n",
              " 'aryan',\n",
              " 'aryasupurna',\n",
              " 'arzoo',\n",
              " 'asan',\n",
              " 'asaraf',\n",
              " 'asbin',\n",
              " 'asbina',\n",
              " 'aseem',\n",
              " 'asesh',\n",
              " 'aseshwar',\n",
              " 'asha',\n",
              " 'ashakaji',\n",
              " 'ashana',\n",
              " 'ashay',\n",
              " 'ashbin',\n",
              " 'ashchal',\n",
              " 'asheem',\n",
              " 'asheesh',\n",
              " 'ashes',\n",
              " 'ashesh',\n",
              " 'asheshwor',\n",
              " 'ashfaq',\n",
              " 'ashib',\n",
              " 'ashik',\n",
              " 'ashika',\n",
              " 'ashim',\n",
              " 'ashin',\n",
              " 'ashirbad',\n",
              " 'ashis',\n",
              " 'ashish',\n",
              " 'ashisi',\n",
              " 'ashit',\n",
              " 'ashiya',\n",
              " 'ashkal',\n",
              " 'ashlesh',\n",
              " 'ashma',\n",
              " 'ashman',\n",
              " 'ashmeeta',\n",
              " 'ashmi',\n",
              " 'ashmin',\n",
              " 'ashmina',\n",
              " 'ashmit',\n",
              " 'ashmita',\n",
              " 'ashna',\n",
              " 'ashok',\n",
              " 'ashray',\n",
              " 'ashrit',\n",
              " 'ashrita',\n",
              " 'ashru',\n",
              " 'ashu',\n",
              " 'ashuhang',\n",
              " 'ashuta',\n",
              " 'ashutosh',\n",
              " 'ashutosha',\n",
              " 'ashvin',\n",
              " 'ashwin',\n",
              " 'ashwini',\n",
              " 'asikh',\n",
              " 'asim',\n",
              " 'asira',\n",
              " 'asish',\n",
              " 'asita',\n",
              " 'askina',\n",
              " 'aslam',\n",
              " 'aslesha',\n",
              " 'asma',\n",
              " 'asman',\n",
              " 'asmin',\n",
              " 'asmir',\n",
              " 'asmit',\n",
              " 'asmita',\n",
              " 'asmod',\n",
              " 'asphak',\n",
              " 'asphota',\n",
              " 'asrar',\n",
              " 'assim',\n",
              " 'asta',\n",
              " 'astha',\n",
              " 'astik',\n",
              " 'asuni',\n",
              " 'asutosh',\n",
              " 'aswin',\n",
              " 'atal',\n",
              " 'ataur',\n",
              " 'ateet',\n",
              " 'athma',\n",
              " 'atique',\n",
              " 'atish',\n",
              " 'atit',\n",
              " 'atithi',\n",
              " 'atlantic',\n",
              " 'atma',\n",
              " 'atmaram',\n",
              " 'atmesh',\n",
              " 'atul',\n",
              " 'atulya',\n",
              " 'audi',\n",
              " 'auras',\n",
              " 'ava',\n",
              " 'avaaj',\n",
              " 'avanish',\n",
              " 'avash',\n",
              " 'avashana',\n",
              " 'avay',\n",
              " 'avaya',\n",
              " 'avhinav',\n",
              " 'avhishek',\n",
              " 'avhyudaya',\n",
              " 'avicalpa',\n",
              " 'avichandra',\n",
              " 'avidha',\n",
              " 'avijit',\n",
              " 'avikishor',\n",
              " 'avilash',\n",
              " 'avilasha',\n",
              " 'avilekh',\n",
              " 'avimanyu',\n",
              " 'avin',\n",
              " 'avinab',\n",
              " 'avinandan',\n",
              " 'avinash',\n",
              " 'avinav',\n",
              " 'avinaya',\n",
              " 'avineak',\n",
              " 'avinesh',\n",
              " 'avip',\n",
              " 'avipsa',\n",
              " 'aviral',\n",
              " 'avirush',\n",
              " 'avisek',\n",
              " 'avisekh',\n",
              " 'avishek',\n",
              " 'avishekh',\n",
              " 'avishesh',\n",
              " 'aviskar',\n",
              " 'aviwadan',\n",
              " 'aviyan',\n",
              " 'avon',\n",
              " 'avsar',\n",
              " 'awadesh',\n",
              " 'awadh',\n",
              " 'awadhesh',\n",
              " 'awadhkishor',\n",
              " 'awakash',\n",
              " 'awan',\n",
              " 'awanish',\n",
              " 'awash',\n",
              " 'awesh',\n",
              " 'awishesh',\n",
              " 'awiskar',\n",
              " 'awornit',\n",
              " 'ayam',\n",
              " 'ayan',\n",
              " 'ayash',\n",
              " 'ayasha',\n",
              " 'ayashree',\n",
              " 'ayean',\n",
              " 'ayesha',\n",
              " 'ayodhya',\n",
              " 'ayonij',\n",
              " 'ayoush',\n",
              " 'ayousma',\n",
              " 'ayub',\n",
              " 'ayush',\n",
              " 'ayusha',\n",
              " 'ayushi',\n",
              " 'ayushma',\n",
              " 'ayushman',\n",
              " 'azaad',\n",
              " 'azad',\n",
              " 'azaj',\n",
              " 'azaz',\n",
              " 'azeem',\n",
              " 'azzeta',\n",
              " 'b',\n",
              " 'baban',\n",
              " 'babi',\n",
              " 'babik',\n",
              " 'babin',\n",
              " 'babina',\n",
              " 'babisha',\n",
              " 'babita',\n",
              " 'bablu',\n",
              " 'babu',\n",
              " 'babul',\n",
              " 'baburam',\n",
              " 'bachan',\n",
              " 'bachaspati',\n",
              " 'bachu',\n",
              " 'badal',\n",
              " 'badalbabu',\n",
              " 'badan',\n",
              " 'badhyata',\n",
              " 'badri',\n",
              " 'badrinath',\n",
              " 'badriprasad',\n",
              " 'bahadur',\n",
              " 'baibhav',\n",
              " 'baidehi',\n",
              " 'baidh',\n",
              " 'baidhnath',\n",
              " 'baidya',\n",
              " 'baidyanath',\n",
              " 'baijanath',\n",
              " 'baijnath',\n",
              " 'baiju',\n",
              " 'baikunth',\n",
              " 'baikuntha',\n",
              " 'baizu',\n",
              " 'bajara',\n",
              " 'bajarangi',\n",
              " 'bajra',\n",
              " 'bajracharya',\n",
              " 'bajrang',\n",
              " 'bajrangi',\n",
              " 'bakhat',\n",
              " 'bal',\n",
              " 'bala',\n",
              " 'balami',\n",
              " 'balaraj',\n",
              " 'balaram',\n",
              " 'baldev',\n",
              " 'balendra',\n",
              " 'baleshwar',\n",
              " 'balgobind',\n",
              " 'bali',\n",
              " 'baliram',\n",
              " 'balkrishna',\n",
              " 'balkumar',\n",
              " 'balkumari',\n",
              " 'ballav',\n",
              " 'balman',\n",
              " 'balmani',\n",
              " 'balmohan',\n",
              " 'balraj',\n",
              " 'balram',\n",
              " 'bam',\n",
              " 'bamdev',\n",
              " 'ban',\n",
              " 'bandana',\n",
              " 'bandanda',\n",
              " 'bandhu',\n",
              " 'banish',\n",
              " 'bankatesh',\n",
              " 'banmali',\n",
              " 'bansaj',\n",
              " 'banshee',\n",
              " 'banti',\n",
              " 'bapin',\n",
              " 'bappa',\n",
              " 'baral',\n",
              " 'bardan',\n",
              " 'barkadin',\n",
              " 'barkha',\n",
              " 'barnit',\n",
              " 'barsa',\n",
              " 'barsha',\n",
              " ...]"
            ]
          },
          "metadata": {},
          "execution_count": 6
        }
      ]
    },
    {
      "cell_type": "code",
      "source": [
        "min(len(word) for word in words)"
      ],
      "metadata": {
        "colab": {
          "base_uri": "https://localhost:8080/"
        },
        "id": "NbO6WX9TFGKY",
        "outputId": "9f3c7457-06d8-4d31-c22c-2dd29a3988b8"
      },
      "execution_count": 7,
      "outputs": [
        {
          "output_type": "execute_result",
          "data": {
            "text/plain": [
              "1"
            ]
          },
          "metadata": {},
          "execution_count": 7
        }
      ]
    },
    {
      "cell_type": "code",
      "source": [
        "max(len(word) for word in words)"
      ],
      "metadata": {
        "colab": {
          "base_uri": "https://localhost:8080/"
        },
        "id": "3DJ_3_76GkkQ",
        "outputId": "2637698c-8353-48e5-8b00-59f526f9f6be"
      },
      "execution_count": 8,
      "outputs": [
        {
          "output_type": "execute_result",
          "data": {
            "text/plain": [
              "16"
            ]
          },
          "metadata": {},
          "execution_count": 8
        }
      ]
    },
    {
      "cell_type": "code",
      "execution_count": 9,
      "metadata": {
        "id": "QYCj12pju1dE"
      },
      "outputs": [],
      "source": [
        "# b = {}\n",
        "# for word in words:\n",
        "#     characters = ['<S>'] + list(word) + ['<E>']\n",
        "#     for char1,char2 in zip(characters,characters[1:]):\n",
        "#         bigram = (char1,char2)\n",
        "#         b[bigram] = b.get(bigram,0) + 1\n"
      ]
    },
    {
      "cell_type": "code",
      "source": [
        "# sorted(b.items(), key= lambda kv: -kv[1])"
      ],
      "metadata": {
        "id": "0hpm3AHWmaAR"
      },
      "execution_count": 10,
      "outputs": []
    },
    {
      "cell_type": "code",
      "source": [
        "# characters = sorted(list(set(\"\".join(words))))\n",
        "# characters"
      ],
      "metadata": {
        "id": "Tmk_6T8JoLs4"
      },
      "execution_count": 11,
      "outputs": []
    },
    {
      "cell_type": "code",
      "source": [
        "\n"
      ],
      "metadata": {
        "id": "87V8xm1HpIFn"
      },
      "execution_count": 11,
      "outputs": []
    },
    {
      "cell_type": "code",
      "source": [
        "# import torch\n"
      ],
      "metadata": {
        "id": "0E7Id4K5rGfH"
      },
      "execution_count": 12,
      "outputs": []
    },
    {
      "cell_type": "code",
      "source": [
        "# N = torch.zeros((27,27),dtype=torch.int32) + 1"
      ],
      "metadata": {
        "id": "xylOhvA8rXS6"
      },
      "execution_count": 13,
      "outputs": []
    },
    {
      "cell_type": "code",
      "source": [
        "# stoi = {s:i+1 for i,s in enumerate(characters)}\n",
        "# stoi['.'] = 0\n",
        "# itos = {i:s for s,i in stoi.items()}\n",
        "# itos"
      ],
      "metadata": {
        "id": "50ImYz5Gu3ek"
      },
      "execution_count": 14,
      "outputs": []
    },
    {
      "cell_type": "code",
      "source": [
        "# for word in words:\n",
        "#   characters = ['.'] + list(word) + ['.']\n",
        "#   for char1,char2 in zip(characters,characters[1:]):\n",
        "#       idx1 = stoi[char1]\n",
        "#       idx2 = stoi[char2]\n",
        "#       N[idx1,idx2] +=1"
      ],
      "metadata": {
        "id": "N9dZ1vKdr2A4"
      },
      "execution_count": 15,
      "outputs": []
    },
    {
      "cell_type": "code",
      "source": [
        "# import matplotlib.pyplot as plt\n",
        "# %matplotlib inline"
      ],
      "metadata": {
        "id": "RQvKdpDyqUwt"
      },
      "execution_count": 16,
      "outputs": []
    },
    {
      "cell_type": "code",
      "source": [
        "# plt.figure(figsize=(16,16))\n",
        "# plt.imshow(N, cmap='Blues')\n",
        "# for i in range(27):\n",
        "#     for j in range(27):\n",
        "#         chstr = itos[i] + itos[j]\n",
        "#         plt.text(j, i, chstr, ha=\"center\", va=\"bottom\", color='gray')\n",
        "#         plt.text(j, i, N[i, j].item(), ha=\"center\", va=\"top\", color='gray')\n",
        "# plt.axis('off');\n"
      ],
      "metadata": {
        "id": "0vL3jreyqX2x"
      },
      "execution_count": 17,
      "outputs": []
    },
    {
      "cell_type": "code",
      "source": [
        "# p = N[0].float()\n",
        "# p = p / p.sum()\n",
        "# p"
      ],
      "metadata": {
        "id": "mzIPEQAQwcpN"
      },
      "execution_count": 18,
      "outputs": []
    },
    {
      "cell_type": "code",
      "source": [
        "# generator = torch.Generator().manual_seed(42)\n",
        "# b = torch.rand((2,2),generator=generator) #2,2\n",
        "# print(b)\n",
        "# without_dim = b / b.sum(1)                #1 2\n",
        "# with_dim = b/b.sum(dim=1,keepdim=True)\n",
        "# print(without_dim)\n",
        "# print(with_dim)\n",
        "# print(\"Without dim sum\",b.sum(dim=1,keepdim= False))\n",
        "# print(\"With dim sum\",b.sum(dim=1,keepdim= True))\n"
      ],
      "metadata": {
        "id": "yRH8zJi-zGa3"
      },
      "execution_count": 19,
      "outputs": []
    },
    {
      "cell_type": "code",
      "source": [
        "# P = N.float()\n",
        "# P /= P.sum(1,keepdim=True)"
      ],
      "metadata": {
        "id": "TWe7UHviDGtf"
      },
      "execution_count": 20,
      "outputs": []
    },
    {
      "cell_type": "code",
      "source": [
        "# g = torch.Generator().manual_seed(2147483647)\n",
        "# for i in range(5):\n",
        "#   out = []\n",
        "#   index = 0\n",
        "\n",
        "#   while True:\n",
        "#     p = P[index]\n",
        "#     p /= p.sum()\n",
        "#     index = torch.multinomial(p,num_samples=1,replacement=True,generator=g).item()\n",
        "#     out.append(itos[index])\n",
        "#     if index == 0:\n",
        "#       break\n",
        "#   print(''.join(out))"
      ],
      "metadata": {
        "id": "ZRouwpL2zkLO"
      },
      "execution_count": 21,
      "outputs": []
    },
    {
      "cell_type": "code",
      "source": [
        "# likelihood = 0\n",
        "# count = 0\n",
        "# for word in words[:1]:\n",
        "#   characters = ['.'] + list(word) + ['.']\n",
        "#   for char1,char2 in zip(characters,characters[1:]):\n",
        "#       idx1 = stoi[char1]\n",
        "#       idx2 = stoi[char2]\n",
        "#       probability = P[idx1,idx2]\n",
        "#       likelihood += torch.log(probability)\n",
        "#       count += 1\n",
        "#       print(f\"{char1}{char2} Prob:{probability:.4f}\")\n",
        "# print(f\"{likelihood}\")\n",
        "# nnl = -likelihood\n",
        "# print(f\"avg:{nnl/count=}\")"
      ],
      "metadata": {
        "id": "hlhF8Wd1I_io"
      },
      "execution_count": 22,
      "outputs": []
    },
    {
      "cell_type": "code",
      "source": [
        "# xs,ys = [],[]\n",
        "# for word in words[:1]:\n",
        "#   characters = ['.'] + list(word) + ['.']\n",
        "#   for char1,char2 in zip(characters,characters[1:]):\n",
        "#       idx1 = stoi[char1]\n",
        "#       idx2 = stoi[char2]\n",
        "#       xs.append(idx1)\n",
        "#       ys.append(idx2)\n",
        "# xs,ys = torch.tensor(xs),torch.tensor(ys)\n",
        "# xs,ys"
      ],
      "metadata": {
        "id": "SZyLGD7XSx4B"
      },
      "execution_count": 23,
      "outputs": []
    },
    {
      "cell_type": "code",
      "source": [
        "# import torch.nn.functional as F\n",
        "# xenc = F.one_hot(xs,num_classes=27).float()\n",
        "# xenc.shape"
      ],
      "metadata": {
        "id": "vFqN6RdWUyAT"
      },
      "execution_count": 24,
      "outputs": []
    },
    {
      "cell_type": "code",
      "source": [
        "# generator = torch.Generator().manual_seed(2147483647)\n",
        "# W = torch.randn((27,27),generator=generator,requires_grad=True)\n",
        "# xenc @ W"
      ],
      "metadata": {
        "id": "C0mrsEgoW--h"
      },
      "execution_count": 25,
      "outputs": []
    },
    {
      "cell_type": "code",
      "source": [
        "# logits = xenc @ W\n",
        "# counts = logits.exp()\n",
        "# probs = counts / counts.sum(1, keepdim=True) # The probabilities predicted by the neural network for the y labels\n",
        "# probs\n"
      ],
      "metadata": {
        "id": "_6vByxLBVL3x"
      },
      "execution_count": 26,
      "outputs": []
    },
    {
      "cell_type": "code",
      "source": [
        "# probs[0].sum()"
      ],
      "metadata": {
        "id": "xVd3Fl0yaunE"
      },
      "execution_count": 27,
      "outputs": []
    },
    {
      "cell_type": "markdown",
      "source": [],
      "metadata": {
        "id": "hU0GFqFvaZRu"
      }
    },
    {
      "cell_type": "code",
      "source": [
        "# nlls = torch.zeros(7)\n",
        "# for i in range(7):\n",
        "#   # i-th bigram:\n",
        "#   x = xs[i].item() # input character index\n",
        "#   y = ys[i].item() # label character index\n",
        "#   print('--------')\n",
        "#   print(f'bigram example {i+1}: {itos[x]}{itos[y]} (indexes {x},{y})')\n",
        "#   print('input to the neural net:', x)\n",
        "#   print('output probabilities from the neural net:', probs[i])\n",
        "#   print(f'Maximum probability is predicted by {torch.where(probs[i] == max(probs[i]))[0].item() + 1}th neuron i.e. prob:{max(probs[i])} from the neural net:')\n",
        "#   print('label (actual next character):', y)\n",
        "#   p = probs[i, y]\n",
        "#   print('probability assigned by the net to the the correct character:', p.item())\n",
        "#   logp = torch.log(p)\n",
        "#   print('log likelihood:', logp.item())\n",
        "#   nll = -logp\n",
        "#   print('negative log likelihood:', nll.item())\n",
        "#   nlls[i] = nll\n",
        "\n",
        "# print('=========')\n",
        "# print('average negative log likelihood, i.e. loss =', nlls.mean().item())"
      ],
      "metadata": {
        "id": "TpLLvbspZ_sm"
      },
      "execution_count": 28,
      "outputs": []
    },
    {
      "cell_type": "code",
      "source": [
        "# generator = torch.Generator().manual_seed(2147483647)\n",
        "# W = torch.randn((27,27),generator=generator,requires_grad=True)\n",
        "# xenc @ W"
      ],
      "metadata": {
        "id": "0Rfp3oLLh1kh"
      },
      "execution_count": 29,
      "outputs": []
    },
    {
      "cell_type": "code",
      "source": [
        "# #forward pass\n",
        "# logits = xenc @ W\n",
        "# counts = logits.exp()\n",
        "# probs = counts / counts.sum(1, keepdim=True) # The probabilities predicted by the neural network for the y labels\n",
        "# loss = -probs[torch.arange(7),ys].log().mean()\n",
        "# loss.item()"
      ],
      "metadata": {
        "id": "8IU39Ub3h9uw"
      },
      "execution_count": 30,
      "outputs": []
    },
    {
      "cell_type": "code",
      "source": [],
      "metadata": {
        "id": "7FuhUGYgeY3K"
      },
      "execution_count": 30,
      "outputs": []
    },
    {
      "cell_type": "code",
      "source": [
        "# #Backward pass\n",
        "# W.grad = None\n",
        "# loss.backward()"
      ],
      "metadata": {
        "id": "hpejindvhV_D"
      },
      "execution_count": 31,
      "outputs": []
    },
    {
      "cell_type": "code",
      "source": [
        "# W.data += -0.1 * W.grad"
      ],
      "metadata": {
        "id": "leXPUEQDiTw7"
      },
      "execution_count": 32,
      "outputs": []
    },
    {
      "cell_type": "code",
      "source": [
        "# g = torch.Generator().manual_seed(2147483647)\n",
        "# for i in range(5):\n",
        "#   out = []\n",
        "#   index = 0\n",
        "\n",
        "#   while True:\n",
        "#     xenc = F.one_hot(torch.tensor([index]),num_classes=27).float()\n",
        "#     logits = xenc @ W\n",
        "#     counts = logits.exp()\n",
        "#     probs = counts / counts.sum(1, keepdim=True) # The probabilities predicted by the neural network for the y labels\n",
        "#     index = torch.multinomial(probs,num_samples=1,replacement=True,generator=g).item()\n",
        "#     out.append(itos[index])\n",
        "#     if index == 0:\n",
        "#       break\n",
        "#   print(''.join(out))\n"
      ],
      "metadata": {
        "id": "d2PCJNTcmtEh"
      },
      "execution_count": 33,
      "outputs": []
    },
    {
      "cell_type": "code",
      "source": [
        "#Trigram language model training\n",
        "# t ={}\n",
        "# for word in words:\n",
        "#   characters = ['<S>'] + list(word) + ['<E>']\n",
        "#   for char1a,char1b,char2 in zip(characters,characters[1:],characters[2:]):\n",
        "#       char1 = char1a + char1b\n",
        "#       trigram = (char1,char2)\n",
        "#       t[trigram] = t.get(trigram,0) + 1"
      ],
      "metadata": {
        "id": "oZL4syccBL8D"
      },
      "execution_count": 34,
      "outputs": []
    },
    {
      "cell_type": "code",
      "source": [
        "# sorted(t.items(),key = lambda kv: -kv[1])"
      ],
      "metadata": {
        "id": "At9_biWqFnmE"
      },
      "execution_count": 35,
      "outputs": []
    },
    {
      "cell_type": "code",
      "source": [
        "# import torch\n",
        "\n",
        "# N = torch.zeros((27,27,27),dtype=torch.int32)"
      ],
      "metadata": {
        "id": "P_4yoaLgXgou"
      },
      "execution_count": 36,
      "outputs": []
    },
    {
      "cell_type": "code",
      "source": [
        "# characters = sorted(list(set(\"\".join(words))))"
      ],
      "metadata": {
        "id": "GEF659EgYRZR"
      },
      "execution_count": 37,
      "outputs": []
    },
    {
      "cell_type": "code",
      "source": [
        "# stoi = {s:i+1 for i,s in enumerate(characters)}\n",
        "# stoi['.'] = 0\n",
        "# itos = {i:s for s,i in stoi.items()}\n",
        "# print(stoi)\n",
        "# print(itos)"
      ],
      "metadata": {
        "id": "PXTx6B83Xubn"
      },
      "execution_count": 38,
      "outputs": []
    },
    {
      "cell_type": "code",
      "source": [
        "# for word in words[:1]:\n",
        "#   characters = ['.'] + list(word) + ['.']\n",
        "#   for char1a,char1b,char2 in zip(characters,characters[1:],characters[2:]):\n",
        "#       char1 = char1a + char1b\n",
        "#       idx1 = stoi[char1a]\n",
        "#       idx2 = stoi[char1b]\n",
        "#       idx3 = stoi[char2]\n",
        "#       N[idx1,idx2,idx3] += 1"
      ],
      "metadata": {
        "id": "N8-T9kthYxY0"
      },
      "execution_count": 39,
      "outputs": []
    },
    {
      "cell_type": "code",
      "source": [
        "# P = N\n",
        "# P[0,2]\n",
        "# \"aarati\"\n",
        "# \"aar\"\n",
        "# N[1,1,18] = 1\n",
        "#bimal\n",
        "#bim idb,idi,idm [[.......,idb,idi,idm,.......],]\n",
        "#ima idi,idm,ida\n",
        "#mal idm,ida,idl"
      ],
      "metadata": {
        "id": "FeeE5YEqZbxV"
      },
      "execution_count": 40,
      "outputs": []
    },
    {
      "cell_type": "code",
      "source": [
        "# import torch\n",
        "# bigram = torch.zeros((27,27),dtype=torch.int32)\n",
        "# # ab\n",
        "# # bc\n",
        "# # cd\n",
        "# # da -> abc [[0,1,0,....],]\n",
        "# # ab\n",
        "# # a -> 1\n",
        "# # b -> 2\n",
        "# # c -> 3\n",
        "# # d -> 4\n",
        "# bigram[1,2] = 1 # ab\n",
        "# bigram [2,3] = 1\n",
        "# bigram [3,4] = 1\n",
        "# bigram[4,1] = 1\n",
        "# bigram[1,2] = bigram[1,2] + 1\n",
        "# bigram\n",
        "# # x = [[1,2]]  y=[3]"
      ],
      "metadata": {
        "id": "C7KfEqt0auM0"
      },
      "execution_count": 41,
      "outputs": []
    },
    {
      "cell_type": "code",
      "source": [
        "import torch.nn.functional as F"
      ],
      "metadata": {
        "id": "IzGzG6gO5uwa"
      },
      "execution_count": 42,
      "outputs": []
    },
    {
      "cell_type": "code",
      "source": [
        "# X_trigram_train,Y_trigram_train = [],[]\n",
        "# for word in words:\n",
        "#     chars = [\".\"] + list(word) + [\".\"]\n",
        "#     for char1a ,char1b, char2 in zip(chars,chars[1:],chars[2:]):\n",
        "#         char1 = char1a + char1b\n",
        "#         idx1 = stoi[char1a]\n",
        "#         idx2 = stoi[char1b]\n",
        "#         idx3 = stoi[char2]\n",
        "#         X_trigram_train.append([idx1,idx2])\n",
        "#         Y_trigram_train.append(idx3)"
      ],
      "metadata": {
        "id": "ZItmQ2xVzwdH"
      },
      "execution_count": 43,
      "outputs": []
    },
    {
      "cell_type": "code",
      "source": [
        "# for idx,(x,y) in enumerate(zip(X_trigram_train,Y_trigram_train)):\n",
        "#     if idx == 10:\n",
        "#         break\n",
        "#     print(f\"{x} --> {y} ----------->{itos[x[0]]}{itos[x[1]]} -->{itos[y]}\")\n"
      ],
      "metadata": {
        "id": "Lg6leq1y0nEi"
      },
      "execution_count": 44,
      "outputs": []
    },
    {
      "cell_type": "code",
      "source": [
        "# X,Y = torch.tensor(X_trigram_train),torch.tensor(Y_trigram_train)\n",
        "# X.shape,Y"
      ],
      "metadata": {
        "id": "5jkvE3jS2Trn"
      },
      "execution_count": 45,
      "outputs": []
    },
    {
      "cell_type": "code",
      "source": [
        "# #Forward Pass\n",
        "# xenc = F.one_hot(X,num_classes=27).float().view(-1,27*2)\n",
        "# xenc.shape"
      ],
      "metadata": {
        "id": "8n2347zl3M5u"
      },
      "execution_count": 46,
      "outputs": []
    },
    {
      "cell_type": "code",
      "source": [
        "# generator = torch.Generator().manual_seed(2147483647)\n",
        "# W = torch.randn((27*2,27),generator=generator,requires_grad=True)"
      ],
      "metadata": {
        "id": "7JLpCxscCNOa"
      },
      "execution_count": 47,
      "outputs": []
    },
    {
      "cell_type": "code",
      "source": [
        "# logits = xenc @ W\n",
        "# counts = logits.exp()\n",
        "# probs = counts / counts.sum(1,keepdim=True)\n",
        "# print(probs.shape)\n",
        "# loss = -probs[torch.arange(X.shape[0]),Y[0]].log().mean()\n",
        "# loss.item()"
      ],
      "metadata": {
        "id": "LDMqYtqdCUsv"
      },
      "execution_count": 48,
      "outputs": []
    },
    {
      "cell_type": "code",
      "source": [
        "#backward pass\n",
        "# W.grad = None\n",
        "# loss.backward()"
      ],
      "metadata": {
        "id": "RX5QdisFLj02"
      },
      "execution_count": 49,
      "outputs": []
    },
    {
      "cell_type": "code",
      "source": [
        "# W.data += -50 * W.grad"
      ],
      "metadata": {
        "id": "G6uj038jIVhW"
      },
      "execution_count": 50,
      "outputs": []
    },
    {
      "cell_type": "code",
      "source": [
        "# generator = torch.Generator().manual_seed(21474836)\n",
        "# generated_names = []\n",
        "# print(probs)\n",
        "# for i in range(7):\n",
        "#     out = []\n",
        "#     index = [0,0]\n",
        "#     while True:\n",
        "#       xenc = F.one_hot(torch.tensor([index]),num_classes=27).float().view(1,-1)\n",
        "#       logits = xenc @ W\n",
        "#       counts = logits.exp()\n",
        "#       probs = counts / counts.sum(1,keepdim=True)\n",
        "#       idx = torch.multinomial(probs,num_samples=1,replacement=True,generator=generator).item()\n",
        "\n",
        "#       index = index[1:] + [idx]\n",
        "#       out.append(itos[idx])\n",
        "#       if idx == 0:\n",
        "#         break\n",
        "#     generated_names.append(''.join(out)[:-1])\n",
        "# print(generated_names)"
      ],
      "metadata": {
        "id": "11Jl3QHxKJoh"
      },
      "execution_count": 51,
      "outputs": []
    },
    {
      "cell_type": "code",
      "source": [
        "words[:3]"
      ],
      "metadata": {
        "colab": {
          "base_uri": "https://localhost:8080/"
        },
        "id": "U3YX99SqPmW4",
        "outputId": "2c64e3b5-5cc8-4863-f694-423007641ec9"
      },
      "execution_count": 52,
      "outputs": [
        {
          "output_type": "execute_result",
          "data": {
            "text/plain": [
              "['aaarti', 'aabha', 'aabhas']"
            ]
          },
          "metadata": {},
          "execution_count": 52
        }
      ]
    },
    {
      "cell_type": "code",
      "source": [
        "chars = sorted(list(set(''.join(words))))\n",
        "\n",
        "stoi = {s:i+1 for i,s in enumerate(chars)}\n",
        "stoi['.'] = 0\n",
        "itos = {i:s for s,i in stoi.items()}"
      ],
      "metadata": {
        "id": "MG4Qo5vIP59y"
      },
      "execution_count": 53,
      "outputs": []
    },
    {
      "cell_type": "code",
      "source": [],
      "metadata": {
        "id": "HPKgUvT-r_SQ"
      },
      "execution_count": 53,
      "outputs": []
    },
    {
      "cell_type": "code",
      "source": [
        "import torch"
      ],
      "metadata": {
        "id": "epWAWC2xSWmu"
      },
      "execution_count": 54,
      "outputs": []
    },
    {
      "cell_type": "code",
      "source": [
        "# Create training sets\n",
        "X_bigram,Y_bigram = [],[]\n",
        "for word in words:\n",
        "  chars = [\".\"] + list(word) + [\".\"]\n",
        "  for char1,char2 in zip(chars,chars[1:]):\n",
        "      idx1 = stoi[char1]\n",
        "      idx2 = stoi[char2]\n",
        "      X_bigram.append(idx1)\n",
        "      Y_bigram.append(idx2)\n",
        "\n",
        "#Convert lists to PyTorch tensors\n",
        "X_bigram = torch.tensor(X_bigram)\n",
        "Y_bigram = torch.tensor(Y_bigram)\n",
        "X_bigram,Y_bigram"
      ],
      "metadata": {
        "colab": {
          "base_uri": "https://localhost:8080/"
        },
        "id": "T34e_VAcQ7bw",
        "outputId": "4384c22d-26de-4ff3-bd64-e141ebe0d3f6"
      },
      "execution_count": 55,
      "outputs": [
        {
          "output_type": "execute_result",
          "data": {
            "text/plain": [
              "(tensor([ 0,  1,  1,  ..., 19,  5, 14]),\n",
              " tensor([ 1,  1,  1,  ...,  5, 14,  0]))"
            ]
          },
          "metadata": {},
          "execution_count": 55
        }
      ]
    },
    {
      "cell_type": "code",
      "source": [
        "class BigramLanguageModel:\n",
        "  def __init__(self,num_features,num_outputs,epochs=100,seed = 2147483647):\n",
        "    self.features = num_features\n",
        "    self.outputs = num_outputs\n",
        "    self.seed = seed\n",
        "    self.epochs = epochs\n",
        "    self.history = {}\n",
        "    generator = torch.Generator().manual_seed(self.seed)\n",
        "    self.weights = torch.randn((num_features,num_outputs),generator=generator,requires_grad=True)\n",
        "\n",
        "  def __call__(self,x,y):\n",
        "      #Forward propagation\n",
        "      encoded = F.one_hot(x,num_classes=self.outputs).float()\n",
        "      logits = encoded @ self.weights\n",
        "      counts = logits.exp()\n",
        "\n",
        "      probs = counts / counts.sum(1,keepdim = True)\n",
        "      loss = -probs[torch.arange(x.shape[0]),y].log().mean()\n",
        "      return loss\n",
        "\n",
        "  def train(self,x,y):\n",
        "      epochs = self.epochs\n",
        "      loss_per_epoch = {}\n",
        "      for epoch in range(epochs):\n",
        "          loss = self(x,y)\n",
        "          loss_per_epoch[f\"epoch_{epoch+1}\"] = loss.item()\n",
        "          self.weights.grad = None\n",
        "          loss.backward()\n",
        "\n",
        "          self.weights.data += -10 * self.weights.grad\n",
        "      self.history = loss_per_epoch\n",
        "      return self(x,y)\n",
        "  def generate(self, num_examples, itos):\n",
        "      generator = torch.Generator().manual_seed(self.seed)\n",
        "      generated_names = []\n",
        "      for _ in range(num_examples):\n",
        "          out = []\n",
        "          index = 0\n",
        "          while True:\n",
        "              xenc = F.one_hot(torch.tensor([index]),num_classes=self.outputs).float()\n",
        "              logits = xenc @ self.weights\n",
        "              counts = logits.exp()\n",
        "\n",
        "              probs = counts / counts.sum(1,keepdim=True)\n",
        "              index = torch.multinomial(probs,num_samples = 1, replacement=True,generator=generator).item()\n",
        "              out.append(itos[index])\n",
        "              if index == 0:\n",
        "                  break\n",
        "          generated_names.append(''.join(out)[:-1])\n",
        "      return generated_names"
      ],
      "metadata": {
        "id": "W4scTlnSSbQn"
      },
      "execution_count": 56,
      "outputs": []
    },
    {
      "cell_type": "code",
      "source": [
        "bimal = BigramLanguageModel(num_features=27,epochs = 100,num_outputs=27)\n",
        "# print(bimal(X_bigram,Y_bigram))\n",
        "bimal.train(X_bigram,Y_bigram).item()"
      ],
      "metadata": {
        "colab": {
          "base_uri": "https://localhost:8080/"
        },
        "id": "dnMd8ZYPS6-0",
        "outputId": "3c531246-8c92-4882-affc-30d85ed7ed34"
      },
      "execution_count": 57,
      "outputs": [
        {
          "output_type": "execute_result",
          "data": {
            "text/plain": [
              "2.386882781982422"
            ]
          },
          "metadata": {},
          "execution_count": 57
        }
      ]
    },
    {
      "cell_type": "code",
      "source": [
        "bimal.generate(10,itos)"
      ],
      "metadata": {
        "colab": {
          "base_uri": "https://localhost:8080/"
        },
        "id": "LGIwcKdf5JZO",
        "outputId": "49cde6bc-06a6-4193-8b36-eb62a85b2af7"
      },
      "execution_count": 58,
      "outputs": [
        {
          "output_type": "execute_result",
          "data": {
            "text/plain": [
              "['junidedil',\n",
              " 'asar',\n",
              " 'prafba',\n",
              " 'a',\n",
              " 'bi',\n",
              " 'kshinitozikasatha',\n",
              " 'bilanaauyanileviaj',\n",
              " 'dbininrwambi',\n",
              " 'shaninay',\n",
              " 'arta']"
            ]
          },
          "metadata": {},
          "execution_count": 58
        }
      ]
    },
    {
      "cell_type": "code",
      "source": [
        "bimal.history"
      ],
      "metadata": {
        "colab": {
          "base_uri": "https://localhost:8080/"
        },
        "id": "cgj53L-R7Xn8",
        "outputId": "29a76c77-8463-406f-991b-159a9ad9478b"
      },
      "execution_count": 59,
      "outputs": [
        {
          "output_type": "execute_result",
          "data": {
            "text/plain": [
              "{'epoch_1': 3.7661375999450684,\n",
              " 'epoch_2': 3.647768259048462,\n",
              " 'epoch_3': 3.5404655933380127,\n",
              " 'epoch_4': 3.4433343410491943,\n",
              " 'epoch_5': 3.3560242652893066,\n",
              " 'epoch_6': 3.2783172130584717,\n",
              " 'epoch_7': 3.2098684310913086,\n",
              " 'epoch_8': 3.1500771045684814,\n",
              " 'epoch_9': 3.098097562789917,\n",
              " 'epoch_10': 3.0529351234436035,\n",
              " 'epoch_11': 3.013558864593506,\n",
              " 'epoch_12': 2.9789879322052,\n",
              " 'epoch_13': 2.948345184326172,\n",
              " 'epoch_14': 2.920884370803833,\n",
              " 'epoch_15': 2.8959968090057373,\n",
              " 'epoch_16': 2.8732025623321533,\n",
              " 'epoch_17': 2.852130651473999,\n",
              " 'epoch_18': 2.8325018882751465,\n",
              " 'epoch_19': 2.814103603363037,\n",
              " 'epoch_20': 2.7967755794525146,\n",
              " 'epoch_21': 2.780393600463867,\n",
              " 'epoch_22': 2.764859199523926,\n",
              " 'epoch_23': 2.750093936920166,\n",
              " 'epoch_24': 2.736032485961914,\n",
              " 'epoch_25': 2.7226195335388184,\n",
              " 'epoch_26': 2.709808588027954,\n",
              " 'epoch_27': 2.697557210922241,\n",
              " 'epoch_28': 2.6858301162719727,\n",
              " 'epoch_29': 2.6745941638946533,\n",
              " 'epoch_30': 2.663820743560791,\n",
              " 'epoch_31': 2.6534833908081055,\n",
              " 'epoch_32': 2.6435580253601074,\n",
              " 'epoch_33': 2.6340231895446777,\n",
              " 'epoch_34': 2.624858856201172,\n",
              " 'epoch_35': 2.61604642868042,\n",
              " 'epoch_36': 2.607569456100464,\n",
              " 'epoch_37': 2.599411725997925,\n",
              " 'epoch_38': 2.5915584564208984,\n",
              " 'epoch_39': 2.583996534347534,\n",
              " 'epoch_40': 2.576712131500244,\n",
              " 'epoch_41': 2.5696933269500732,\n",
              " 'epoch_42': 2.562929391860962,\n",
              " 'epoch_43': 2.5564076900482178,\n",
              " 'epoch_44': 2.5501198768615723,\n",
              " 'epoch_45': 2.5440545082092285,\n",
              " 'epoch_46': 2.5382022857666016,\n",
              " 'epoch_47': 2.532554864883423,\n",
              " 'epoch_48': 2.5271034240722656,\n",
              " 'epoch_49': 2.5218398571014404,\n",
              " 'epoch_50': 2.5167555809020996,\n",
              " 'epoch_51': 2.5118443965911865,\n",
              " 'epoch_52': 2.50709867477417,\n",
              " 'epoch_53': 2.5025112628936768,\n",
              " 'epoch_54': 2.4980757236480713,\n",
              " 'epoch_55': 2.493786096572876,\n",
              " 'epoch_56': 2.489636182785034,\n",
              " 'epoch_57': 2.485621452331543,\n",
              " 'epoch_58': 2.4817347526550293,\n",
              " 'epoch_59': 2.4779717922210693,\n",
              " 'epoch_60': 2.474327802658081,\n",
              " 'epoch_61': 2.4707980155944824,\n",
              " 'epoch_62': 2.4673774242401123,\n",
              " 'epoch_63': 2.464061975479126,\n",
              " 'epoch_64': 2.4608473777770996,\n",
              " 'epoch_65': 2.4577295780181885,\n",
              " 'epoch_66': 2.454705238342285,\n",
              " 'epoch_67': 2.451770305633545,\n",
              " 'epoch_68': 2.448920965194702,\n",
              " 'epoch_69': 2.4461543560028076,\n",
              " 'epoch_70': 2.4434664249420166,\n",
              " 'epoch_71': 2.4408552646636963,\n",
              " 'epoch_72': 2.438317060470581,\n",
              " 'epoch_73': 2.435849189758301,\n",
              " 'epoch_74': 2.433448553085327,\n",
              " 'epoch_75': 2.4311132431030273,\n",
              " 'epoch_76': 2.428840160369873,\n",
              " 'epoch_77': 2.4266273975372314,\n",
              " 'epoch_78': 2.424471616744995,\n",
              " 'epoch_79': 2.422372341156006,\n",
              " 'epoch_80': 2.420325994491577,\n",
              " 'epoch_81': 2.4183313846588135,\n",
              " 'epoch_82': 2.416386604309082,\n",
              " 'epoch_83': 2.414489507675171,\n",
              " 'epoch_84': 2.4126384258270264,\n",
              " 'epoch_85': 2.4108314514160156,\n",
              " 'epoch_86': 2.409067392349243,\n",
              " 'epoch_87': 2.4073450565338135,\n",
              " 'epoch_88': 2.405663013458252,\n",
              " 'epoch_89': 2.4040191173553467,\n",
              " 'epoch_90': 2.4024126529693604,\n",
              " 'epoch_91': 2.4008421897888184,\n",
              " 'epoch_92': 2.399306297302246,\n",
              " 'epoch_93': 2.3978044986724854,\n",
              " 'epoch_94': 2.3963353633880615,\n",
              " 'epoch_95': 2.3948974609375,\n",
              " 'epoch_96': 2.3934903144836426,\n",
              " 'epoch_97': 2.392113208770752,\n",
              " 'epoch_98': 2.3907644748687744,\n",
              " 'epoch_99': 2.389443874359131,\n",
              " 'epoch_100': 2.388150215148926}"
            ]
          },
          "metadata": {},
          "execution_count": 59
        }
      ]
    },
    {
      "cell_type": "code",
      "source": [
        "import pandas as pd\n",
        "import matplotlib.pyplot as plt"
      ],
      "metadata": {
        "id": "swRvHIQM7_5b"
      },
      "execution_count": 60,
      "outputs": []
    },
    {
      "cell_type": "code",
      "source": [
        "df = pd.DataFrame({\"Bigram Model\":bimal.history.values()})\n",
        "\n",
        "df. plot()\n",
        "plt.xlabel('Epochs')\n",
        "plt.ylabel('Loss')\n",
        "plt.tight_layout()\n",
        "plt.show()"
      ],
      "metadata": {
        "colab": {
          "base_uri": "https://localhost:8080/",
          "height": 487
        },
        "id": "nhdiTqpg8CMT",
        "outputId": "27b197f0-f0d5-4472-db97-8afeacec4ab0"
      },
      "execution_count": 61,
      "outputs": [
        {
          "output_type": "display_data",
          "data": {
            "text/plain": [
              "<Figure size 640x480 with 1 Axes>"
            ],
            "image/png": "[encoded data removed]"
          },
          "metadata": {}
        }
      ]
    },
    {
      "cell_type": "code",
      "source": [
        "X_trigram,Y_trigram = [],[]\n",
        "for word in words:\n",
        "  chars = [\".\"] + list(word) + [\".\"]\n",
        "  for char1a,char1b,char2 in zip(chars,chars[1:],chars[2:]):\n",
        "      idx1 = stoi[char1a]\n",
        "      idx2 = stoi[char1b]\n",
        "      idx3 = stoi[char2]\n",
        "      X_trigram.append([idx1,idx2])\n",
        "      Y_trigram.append(idx3)\n",
        "\n",
        "#Convert lists to PyTorch tensors\n",
        "X_trigram = torch.tensor(X_trigram)\n",
        "Y_trigram = torch.tensor(Y_trigram)\n",
        "X_trigram,Y_trigram\n"
      ],
      "metadata": {
        "colab": {
          "base_uri": "https://localhost:8080/"
        },
        "id": "RygqTMWIH5ve",
        "outputId": "875a38fb-233e-4cd8-d315-e8038487fd52"
      },
      "execution_count": 62,
      "outputs": [
        {
          "output_type": "execute_result",
          "data": {
            "text/plain": [
              "(tensor([[ 0,  1],\n",
              "         [ 1,  1],\n",
              "         [ 1,  1],\n",
              "         ...,\n",
              "         [15, 19],\n",
              "         [19,  5],\n",
              "         [ 5, 14]]),\n",
              " tensor([ 1,  1, 18,  ...,  5, 14,  0]))"
            ]
          },
          "metadata": {},
          "execution_count": 62
        }
      ]
    },
    {
      "cell_type": "code",
      "source": [],
      "metadata": {
        "id": "_x3nww9efHtn"
      },
      "execution_count": 62,
      "outputs": []
    },
    {
      "cell_type": "code",
      "source": [],
      "metadata": {
        "id": "qH7sCFhJfKtx"
      },
      "execution_count": 62,
      "outputs": []
    },
    {
      "cell_type": "code",
      "source": [
        "class TrigramLanguageModel(BigramLanguageModel):\n",
        "  def __init__(self,*args,**kwargs):\n",
        "    super().__init__(*args,**kwargs)\n",
        "  def __call__(self,x,y):\n",
        "    encoded = F.one_hot(x,num_classes = self.outputs).float().view(-1,self.features)\n",
        "    logits = encoded @ self.weights\n",
        "    counts = logits.exp()\n",
        "    probs = counts / counts.sum(1,keepdim=True)\n",
        "    loss = -probs[torch.arange(x.shape[0]),y].log().mean()\n",
        "    return loss\n",
        "  def generate(self,no_examples,itos):\n",
        "    generator = torch.Generator().manual_seed(self.seed)\n",
        "    generated_names = []\n",
        "    for _ in range(no_examples):\n",
        "      out = []\n",
        "      index = [0,0]\n",
        "      while True:\n",
        "        xenc = F.one_hot(torch.tensor([index]),num_classes=self.outputs).float().view(-1,self.features)\n",
        "        logits = xenc @ self.weights\n",
        "        counts = logits.exp()\n",
        "        probs = counts / counts.sum(1,keepdim=True)\n",
        "        idx = torch.multinomial(probs,num_samples=1,replacement=True,generator=generator).item()\n",
        "        index = index[1:] + [idx]\n",
        "        out.append(itos[idx])\n",
        "        if idx == 0:\n",
        "          break\n",
        "\n",
        "      generated_names.append(''.join(out)[:-1])\n",
        "    return generated_names\n"
      ],
      "metadata": {
        "id": "b8GZJLWkPFMR"
      },
      "execution_count": 63,
      "outputs": []
    },
    {
      "cell_type": "code",
      "source": [
        "trigram = TrigramLanguageModel(num_features = 54,num_outputs = 27, epochs=100)\n",
        "trigram.train(X_trigram,Y_trigram)"
      ],
      "metadata": {
        "colab": {
          "base_uri": "https://localhost:8080/"
        },
        "id": "tgtyGZUrQJAu",
        "outputId": "4ce6faec-8a4c-45a9-a74c-22c8044261c5"
      },
      "execution_count": 64,
      "outputs": [
        {
          "output_type": "execute_result",
          "data": {
            "text/plain": [
              "tensor(2.2131, grad_fn=<NegBackward0>)"
            ]
          },
          "metadata": {},
          "execution_count": 64
        }
      ]
    },
    {
      "cell_type": "code",
      "source": [
        "# torch.tensor([[[1,2],[2,3]],[[2,3],[5,6]],[[3,4],[5,6]]]).view(-1,2).shape\n",
        "# torch.tensor([[[1,2],[2,3]],[[2,3],[5,6]],[[3,4],[5,6]]]).view(1,-1).shape"
      ],
      "metadata": {
        "id": "rwDmGoN3TYHQ"
      },
      "execution_count": 65,
      "outputs": []
    },
    {
      "cell_type": "code",
      "source": [
        "trigram.generate(10,itos)\n"
      ],
      "metadata": {
        "colab": {
          "base_uri": "https://localhost:8080/"
        },
        "id": "HAOGbDMOT2X8",
        "outputId": "eec968c8-4047-49fc-e361-344e05f34edb"
      },
      "execution_count": 66,
      "outputs": [
        {
          "output_type": "execute_result",
          "data": {
            "text/plain": [
              "['ounidha',\n",
              " 'anasar',\n",
              " 'ushfya',\n",
              " 'aina',\n",
              " 'ashiritopchashiwam',\n",
              " 'alania',\n",
              " 'arabadvanj',\n",
              " 'abduprrwar',\n",
              " 'ansnja',\n",
              " 'nar']"
            ]
          },
          "metadata": {},
          "execution_count": 66
        }
      ]
    },
    {
      "cell_type": "code",
      "source": [
        "lossses = {\n",
        "    \"bigram\":bimal.history.values(),\n",
        "    \"trigram\":trigram.history.values()\n",
        "}\n",
        "\n",
        "df = pd.DataFrame(lossses)\n",
        "df.plot()\n",
        "plt.xlabel('Epochs')\n",
        "plt.ylabel('Loss')\n",
        "plt.tight_layout()\n",
        "plt.show()"
      ],
      "metadata": {
        "colab": {
          "base_uri": "https://localhost:8080/",
          "height": 487
        },
        "id": "TH36eNfsYTOH",
        "outputId": "b3f15979-ce23-4cf1-b146-78f63613b7f3"
      },
      "execution_count": 67,
      "outputs": [
        {
          "output_type": "display_data",
          "data": {
            "text/plain": [
              "<Figure size 640x480 with 1 Axes>"
            ],
            "image/png": "[encoded data removed]"
          },
          "metadata": {}
        }
      ]
    },
    {
      "cell_type": "code",
      "source": [
        "import random"
      ],
      "metadata": {
        "id": "yX99Biy6fNKl"
      },
      "execution_count": 76,
      "outputs": []
    },
    {
      "cell_type": "code",
      "source": [
        "random.seed(42)\n",
        "random.shuffle(words)"
      ],
      "metadata": {
        "id": "XK5wBh4efQlg"
      },
      "execution_count": 78,
      "outputs": []
    },
    {
      "cell_type": "code",
      "source": [
        "train_fraction = int(0.8 *len(words))\n",
        "validate_fraction = int(0.9 * len(words))\n",
        "train_fraction,validate_fraction\n"
      ],
      "metadata": {
        "colab": {
          "base_uri": "https://localhost:8080/"
        },
        "id": "8ltaYLUquIFk",
        "outputId": "db7a5759-2b06-4b28-ef5d-4109f39fa612"
      },
      "execution_count": 85,
      "outputs": [
        {
          "output_type": "execute_result",
          "data": {
            "text/plain": [
              "(6368, 7164)"
            ]
          },
          "metadata": {},
          "execution_count": 85
        }
      ]
    },
    {
      "cell_type": "code",
      "source": [
        "train_set = words[:train_fraction]\n",
        "validate_set = words[train_fraction:validate_fraction]\n",
        "test_set = words[validate_fraction:]"
      ],
      "metadata": {
        "id": "vkhr4GmPuK12"
      },
      "execution_count": 87,
      "outputs": []
    },
    {
      "cell_type": "code",
      "source": [
        "def create_dataset(words,block_size,stoi):\n",
        "  X,Y = [],[]\n",
        "  for word in words:\n",
        "     index = [0] * block_size\n",
        "     for char in word + \".\":\n",
        "        idx = stoi[char]\n",
        "        X.append(index)\n",
        "        Y.append(idx)\n",
        "        index = index[1:] + [idx]\n",
        "  X = torch.tensor(X)\n",
        "  Y = torch.tensor(Y)\n",
        "\n",
        "  if block_size == 1:\n",
        "    X = X.view(-1)\n",
        "  return X,Y"
      ],
      "metadata": {
        "id": "AeMyK62pu4EY"
      },
      "execution_count": 90,
      "outputs": []
    },
    {
      "cell_type": "code",
      "source": [
        "#Bigram model split\n",
        "X_bigram_train,Y_bigram_train = create_dataset(train_set,1,stoi)\n",
        "X_bigram_validate,Y_bigram_validate = create_dataset(validate_set,1,stoi)\n",
        "X_bigram_test,Y_bigram_test = create_dataset(test_set,1,stoi)\n"
      ],
      "metadata": {
        "id": "60GOQbkOxTYa"
      },
      "execution_count": 93,
      "outputs": []
    },
    {
      "cell_type": "code",
      "source": [
        "bigram_model = BigramLanguageModel(num_features = 27,num_outputs = 27,epochs=100)\n",
        "bigram_model_train_loss = bigram_model.train(X_bigram_train,Y_bigram_train).item()\n",
        "bigram_model_validate_loss = bigram_model.train(X_bigram_validate,Y_bigram_validate).item()\n",
        "bigram_model_test_loss = bigram_model.train(X_bigram_test,Y_bigram_test).item()"
      ],
      "metadata": {
        "id": "nBgpStrZyC66"
      },
      "execution_count": 102,
      "outputs": []
    },
    {
      "cell_type": "code",
      "source": [
        "bigram_model_train_loss,bigram_model_validate_loss,bigram_model_test_loss"
      ],
      "metadata": {
        "colab": {
          "base_uri": "https://localhost:8080/"
        },
        "id": "SyFHVTrlyXjA",
        "outputId": "919da149-108d-487b-b670-f79bd4639d44"
      },
      "execution_count": 103,
      "outputs": [
        {
          "output_type": "execute_result",
          "data": {
            "text/plain": [
              "(2.3870468139648438, 2.3132593631744385, 2.26986026763916)"
            ]
          },
          "metadata": {},
          "execution_count": 103
        }
      ]
    },
    {
      "cell_type": "code",
      "source": [
        "#Trigram model split\n",
        "X_trigram_train,Y_trigram_train = create_dataset(train_set,2,stoi)\n",
        "X_trigram_validate,Y_trigram_validate = create_dataset(validate_set,2,stoi)\n",
        "X_trigram_test,Y_trigram_test = create_dataset(test_set,2,stoi)"
      ],
      "metadata": {
        "id": "MLdqgqqTyoFN"
      },
      "execution_count": 104,
      "outputs": []
    },
    {
      "cell_type": "code",
      "source": [
        "trigram_model = TrigramLanguageModel(num_features = 54,num_outputs = 27,epochs=100)\n",
        "trigram_model_train_loss = trigram_model.train(X_trigram_train,Y_trigram_train).item()\n",
        "trigram_model_validate_loss = trigram_model.train(X_trigram_validate,Y_trigram_validate).item()\n",
        "trigram_model_test_loss = trigram_model.train(X_trigram_test,Y_trigram_test).item()"
      ],
      "metadata": {
        "id": "bC5soJCJyiBv"
      },
      "execution_count": 105,
      "outputs": []
    },
    {
      "cell_type": "code",
      "source": [
        "trigram_model_test_loss,trigram_model_validate_loss,trigram_model_train_loss"
      ],
      "metadata": {
        "colab": {
          "base_uri": "https://localhost:8080/"
        },
        "id": "LSqhetzvy9M5",
        "outputId": "edb0157c-82d2-48af-e063-94edee9ae10e"
      },
      "execution_count": 106,
      "outputs": [
        {
          "output_type": "execute_result",
          "data": {
            "text/plain": [
              "(2.140059471130371, 2.182741641998291, 2.293053388595581)"
            ]
          },
          "metadata": {},
          "execution_count": 106
        }
      ]
    },
    {
      "cell_type": "code",
      "source": [
        "losses = {\n",
        "    \"trigram\":[trigram_model_test_loss,trigram_model_validate_loss,trigram_model_train_loss],\n",
        "    \"bigram\":[bigram_model_train_loss,bigram_model_validate_loss,bigram_model_test_loss]\n",
        "}"
      ],
      "metadata": {
        "id": "o1pIhORJzPM3"
      },
      "execution_count": 107,
      "outputs": []
    },
    {
      "cell_type": "code",
      "source": [
        "loss_df = pd.DataFrame(losses,index=[\"test_loss\",\"validate_loss\",\"train_loss\"])\n",
        "loss_df\n",
        "# loss_df.plot()\n",
        "# plt.xlabel('Types of Losses')\n",
        "# plt.ylabel('Loss')\n",
        "# plt.tight_layout()\n",
        "# plt.show()"
      ],
      "metadata": {
        "colab": {
          "base_uri": "https://localhost:8080/",
          "height": 143
        },
        "id": "JGL0aEL8zc0T",
        "outputId": "f2515bea-2a19-4044-9327-e32d2a785741"
      },
      "execution_count": 110,
      "outputs": [
        {
          "output_type": "execute_result",
          "data": {
            "text/plain": [
              "                trigram    bigram\n",
              "test_loss      2.140059  2.387047\n",
              "validate_loss  2.182742  2.313259\n",
              "train_loss     2.293053  2.269860"
            ],
            "text/html": [
              "\n",
              "  <div id=\"df-abd61e8c-e614-4b6d-9f06-ec2a69809d3e\" class=\"colab-df-container\">\n",
              "    <div>\n",
              "<style scoped>\n",
              "    .dataframe tbody tr th:only-of-type {\n",
              "        vertical-align: middle;\n",
              "    }\n",
              "\n",
              "    .dataframe tbody tr th {\n",
              "        vertical-align: top;\n",
              "    }\n",
              "\n",
              "    .dataframe thead th {\n",
              "        text-align: right;\n",
              "    }\n",
              "</style>\n",
              "<table border=\"1\" class=\"dataframe\">\n",
              "  <thead>\n",
              "    <tr style=\"text-align: right;\">\n",
              "      <th></th>\n",
              "      <th>trigram</th>\n",
              "      <th>bigram</th>\n",
              "    </tr>\n",
              "  </thead>\n",
              "  <tbody>\n",
              "    <tr>\n",
              "      <th>test_loss</th>\n",
              "      <td>2.140059</td>\n",
              "      <td>2.387047</td>\n",
              "    </tr>\n",
              "    <tr>\n",
              "      <th>validate_loss</th>\n",
              "      <td>2.182742</td>\n",
              "      <td>2.313259</td>\n",
              "    </tr>\n",
              "    <tr>\n",
              "      <th>train_loss</th>\n",
              "      <td>2.293053</td>\n",
              "      <td>2.269860</td>\n",
              "    </tr>\n",
              "  </tbody>\n",
              "</table>\n",
              "</div>\n",
              "    <div class=\"colab-df-buttons\">\n",
              "\n",
              "  <div class=\"colab-df-container\">\n",
              "    <button class=\"colab-df-convert\" onclick=\"convertToInteractive('df-abd61e8c-e614-4b6d-9f06-ec2a69809d3e')\"\n",
              "            title=\"Convert this dataframe to an interactive table.\"\n",
              "            style=\"display:none;\">\n",
              "\n",
              "  <svg xmlns=\"http://www.w3.org/2000/svg\" height=\"24px\" viewBox=\"0 -960 960 960\">\n",
              "    <path d=\"M120-120v-720h720v720H120Zm60-500h600v-160H180v160Zm220 220h160v-160H400v160Zm0 220h160v-160H400v160ZM180-400h160v-160H180v160Zm440 0h160v-160H620v160ZM180-180h160v-160H180v160Zm440 0h160v-160H620v160Z\"/>\n",
              "  </svg>\n",
              "    </button>\n",
              "\n",
              "  <style>\n",
              "    .colab-df-container {\n",
              "      display:flex;\n",
              "      gap: 12px;\n",
              "    }\n",
              "\n",
              "    .colab-df-convert {\n",
              "      background-color: #E8F0FE;\n",
              "      border: none;\n",
              "      border-radius: 50%;\n",
              "      cursor: pointer;\n",
              "      display: none;\n",
              "      fill: #1967D2;\n",
              "      height: 32px;\n",
              "      padding: 0 0 0 0;\n",
              "      width: 32px;\n",
              "    }\n",
              "\n",
              "    .colab-df-convert:hover {\n",
              "      background-color: #E2EBFA;\n",
              "      box-shadow: 0px 1px 2px rgba(60, 64, 67, 0.3), 0px 1px 3px 1px rgba(60, 64, 67, 0.15);\n",
              "      fill: #174EA6;\n",
              "    }\n",
              "\n",
              "    .colab-df-buttons div {\n",
              "      margin-bottom: 4px;\n",
              "    }\n",
              "\n",
              "    [theme=dark] .colab-df-convert {\n",
              "      background-color: #3B4455;\n",
              "      fill: #D2E3FC;\n",
              "    }\n",
              "\n",
              "    [theme=dark] .colab-df-convert:hover {\n",
              "      background-color: #434B5C;\n",
              "      box-shadow: 0px 1px 3px 1px rgba(0, 0, 0, 0.15);\n",
              "      filter: drop-shadow(0px 1px 2px rgba(0, 0, 0, 0.3));\n",
              "      fill: #FFFFFF;\n",
              "    }\n",
              "  </style>\n",
              "\n",
              "    <script>\n",
              "      const buttonEl =\n",
              "        document.querySelector('#df-abd61e8c-e614-4b6d-9f06-ec2a69809d3e button.colab-df-convert');\n",
              "      buttonEl.style.display =\n",
              "        google.colab.kernel.accessAllowed ? 'block' : 'none';\n",
              "\n",
              "      async function convertToInteractive(key) {\n",
              "        const element = document.querySelector('#df-abd61e8c-e614-4b6d-9f06-ec2a69809d3e');\n",
              "        const dataTable =\n",
              "          await google.colab.kernel.invokeFunction('convertToInteractive',\n",
              "                                                    [key], {});\n",
              "        if (!dataTable) return;\n",
              "\n",
              "        const docLinkHtml = 'Like what you see? Visit the ' +\n",
              "          '<a target=\"_blank\" href=https://colab.research.google.com/notebooks/data_table.ipynb>data table notebook</a>'\n",
              "          + ' to learn more about interactive tables.';\n",
              "        element.innerHTML = '';\n",
              "        dataTable['output_type'] = 'display_data';\n",
              "        await google.colab.output.renderOutput(dataTable, element);\n",
              "        const docLink = document.createElement('div');\n",
              "        docLink.innerHTML = docLinkHtml;\n",
              "        element.appendChild(docLink);\n",
              "      }\n",
              "    </script>\n",
              "  </div>\n",
              "\n",
              "\n",
              "<div id=\"df-e5fcfa3c-fd2e-4135-bf65-259eee01297a\">\n",
              "  <button class=\"colab-df-quickchart\" onclick=\"quickchart('df-e5fcfa3c-fd2e-4135-bf65-259eee01297a')\"\n",
              "            title=\"Suggest charts\"\n",
              "            style=\"display:none;\">\n",
              "\n",
              "<svg xmlns=\"http://www.w3.org/2000/svg\" height=\"24px\"viewBox=\"0 0 24 24\"\n",
              "     width=\"24px\">\n",
              "    <g>\n",
              "        <path d=\"M19 3H5c-1.1 0-2 .9-2 2v14c0 1.1.9 2 2 2h14c1.1 0 2-.9 2-2V5c0-1.1-.9-2-2-2zM9 17H7v-7h2v7zm4 0h-2V7h2v10zm4 0h-2v-4h2v4z\"/>\n",
              "    </g>\n",
              "</svg>\n",
              "  </button>\n",
              "\n",
              "<style>\n",
              "  .colab-df-quickchart {\n",
              "      --bg-color: #E8F0FE;\n",
              "      --fill-color: #1967D2;\n",
              "      --hover-bg-color: #E2EBFA;\n",
              "      --hover-fill-color: #174EA6;\n",
              "      --disabled-fill-color: #AAA;\n",
              "      --disabled-bg-color: #DDD;\n",
              "  }\n",
              "\n",
              "  [theme=dark] .colab-df-quickchart {\n",
              "      --bg-color: #3B4455;\n",
              "      --fill-color: #D2E3FC;\n",
              "      --hover-bg-color: #434B5C;\n",
              "      --hover-fill-color: #FFFFFF;\n",
              "      --disabled-bg-color: #3B4455;\n",
              "      --disabled-fill-color: #666;\n",
              "  }\n",
              "\n",
              "  .colab-df-quickchart {\n",
              "    background-color: var(--bg-color);\n",
              "    border: none;\n",
              "    border-radius: 50%;\n",
              "    cursor: pointer;\n",
              "    display: none;\n",
              "    fill: var(--fill-color);\n",
              "    height: 32px;\n",
              "    padding: 0;\n",
              "    width: 32px;\n",
              "  }\n",
              "\n",
              "  .colab-df-quickchart:hover {\n",
              "    background-color: var(--hover-bg-color);\n",
              "    box-shadow: 0 1px 2px rgba(60, 64, 67, 0.3), 0 1px 3px 1px rgba(60, 64, 67, 0.15);\n",
              "    fill: var(--button-hover-fill-color);\n",
              "  }\n",
              "\n",
              "  .colab-df-quickchart-complete:disabled,\n",
              "  .colab-df-quickchart-complete:disabled:hover {\n",
              "    background-color: var(--disabled-bg-color);\n",
              "    fill: var(--disabled-fill-color);\n",
              "    box-shadow: none;\n",
              "  }\n",
              "\n",
              "  .colab-df-spinner {\n",
              "    border: 2px solid var(--fill-color);\n",
              "    border-color: transparent;\n",
              "    border-bottom-color: var(--fill-color);\n",
              "    animation:\n",
              "      spin 1s steps(1) infinite;\n",
              "  }\n",
              "\n",
              "  @keyframes spin {\n",
              "    0% {\n",
              "      border-color: transparent;\n",
              "      border-bottom-color: var(--fill-color);\n",
              "      border-left-color: var(--fill-color);\n",
              "    }\n",
              "    20% {\n",
              "      border-color: transparent;\n",
              "      border-left-color: var(--fill-color);\n",
              "      border-top-color: var(--fill-color);\n",
              "    }\n",
              "    30% {\n",
              "      border-color: transparent;\n",
              "      border-left-color: var(--fill-color);\n",
              "      border-top-color: var(--fill-color);\n",
              "      border-right-color: var(--fill-color);\n",
              "    }\n",
              "    40% {\n",
              "      border-color: transparent;\n",
              "      border-right-color: var(--fill-color);\n",
              "      border-top-color: var(--fill-color);\n",
              "    }\n",
              "    60% {\n",
              "      border-color: transparent;\n",
              "      border-right-color: var(--fill-color);\n",
              "    }\n",
              "    80% {\n",
              "      border-color: transparent;\n",
              "      border-right-color: var(--fill-color);\n",
              "      border-bottom-color: var(--fill-color);\n",
              "    }\n",
              "    90% {\n",
              "      border-color: transparent;\n",
              "      border-bottom-color: var(--fill-color);\n",
              "    }\n",
              "  }\n",
              "</style>\n",
              "\n",
              "  <script>\n",
              "    async function quickchart(key) {\n",
              "      const quickchartButtonEl =\n",
              "        document.querySelector('#' + key + ' button');\n",
              "      quickchartButtonEl.disabled = true;  // To prevent multiple clicks.\n",
              "      quickchartButtonEl.classList.add('colab-df-spinner');\n",
              "      try {\n",
              "        const charts = await google.colab.kernel.invokeFunction(\n",
              "            'suggestCharts', [key], {});\n",
              "      } catch (error) {\n",
              "        console.error('Error during call to suggestCharts:', error);\n",
              "      }\n",
              "      quickchartButtonEl.classList.remove('colab-df-spinner');\n",
              "      quickchartButtonEl.classList.add('colab-df-quickchart-complete');\n",
              "    }\n",
              "    (() => {\n",
              "      let quickchartButtonEl =\n",
              "        document.querySelector('#df-e5fcfa3c-fd2e-4135-bf65-259eee01297a button');\n",
              "      quickchartButtonEl.style.display =\n",
              "        google.colab.kernel.accessAllowed ? 'block' : 'none';\n",
              "    })();\n",
              "  </script>\n",
              "</div>\n",
              "\n",
              "  <div id=\"id_3a940700-fb94-416b-afcb-59ed3b5c94eb\">\n",
              "    <style>\n",
              "      .colab-df-generate {\n",
              "        background-color: #E8F0FE;\n",
              "        border: none;\n",
              "        border-radius: 50%;\n",
              "        cursor: pointer;\n",
              "        display: none;\n",
              "        fill: #1967D2;\n",
              "        height: 32px;\n",
              "        padding: 0 0 0 0;\n",
              "        width: 32px;\n",
              "      }\n",
              "\n",
              "      .colab-df-generate:hover {\n",
              "        background-color: #E2EBFA;\n",
              "        box-shadow: 0px 1px 2px rgba(60, 64, 67, 0.3), 0px 1px 3px 1px rgba(60, 64, 67, 0.15);\n",
              "        fill: #174EA6;\n",
              "      }\n",
              "\n",
              "      [theme=dark] .colab-df-generate {\n",
              "        background-color: #3B4455;\n",
              "        fill: #D2E3FC;\n",
              "      }\n",
              "\n",
              "      [theme=dark] .colab-df-generate:hover {\n",
              "        background-color: #434B5C;\n",
              "        box-shadow: 0px 1px 3px 1px rgba(0, 0, 0, 0.15);\n",
              "        filter: drop-shadow(0px 1px 2px rgba(0, 0, 0, 0.3));\n",
              "        fill: #FFFFFF;\n",
              "      }\n",
              "    </style>\n",
              "    <button class=\"colab-df-generate\" onclick=\"generateWithVariable('loss_df')\"\n",
              "            title=\"Generate code using this dataframe.\"\n",
              "            style=\"display:none;\">\n",
              "\n",
              "  <svg xmlns=\"http://www.w3.org/2000/svg\" height=\"24px\"viewBox=\"0 0 24 24\"\n",
              "       width=\"24px\">\n",
              "    <path d=\"M7,19H8.4L18.45,9,17,7.55,7,17.6ZM5,21V16.75L18.45,3.32a2,2,0,0,1,2.83,0l1.4,1.43a1.91,1.91,0,0,1,.58,1.4,1.91,1.91,0,0,1-.58,1.4L9.25,21ZM18.45,9,17,7.55Zm-12,3A5.31,5.31,0,0,0,4.9,8.1,5.31,5.31,0,0,0,1,6.5,5.31,5.31,0,0,0,4.9,4.9,5.31,5.31,0,0,0,6.5,1,5.31,5.31,0,0,0,8.1,4.9,5.31,5.31,0,0,0,12,6.5,5.46,5.46,0,0,0,6.5,12Z\"/>\n",
              "  </svg>\n",
              "    </button>\n",
              "    <script>\n",
              "      (() => {\n",
              "      const buttonEl =\n",
              "        document.querySelector('#id_3a940700-fb94-416b-afcb-59ed3b5c94eb button.colab-df-generate');\n",
              "      buttonEl.style.display =\n",
              "        google.colab.kernel.accessAllowed ? 'block' : 'none';\n",
              "\n",
              "      buttonEl.onclick = () => {\n",
              "        google.colab.notebook.generateWithVariable('loss_df');\n",
              "      }\n",
              "      })();\n",
              "    </script>\n",
              "  </div>\n",
              "\n",
              "    </div>\n",
              "  </div>\n"
            ],
            "application/vnd.google.colaboratory.intrinsic+json": {
              "type": "dataframe",
              "variable_name": "loss_df",
              "summary": "{\n  \"name\": \"loss_df\",\n  \"rows\": 3,\n  \"fields\": [\n    {\n      \"column\": \"trigram\",\n      \"properties\": {\n        \"dtype\": \"number\",\n        \"std\": 0.07894891589787087,\n        \"min\": 2.140059471130371,\n        \"max\": 2.293053388595581,\n        \"num_unique_values\": 3,\n        \"samples\": [\n          2.140059471130371,\n          2.182741641998291,\n          2.293053388595581\n        ],\n        \"semantic_type\": \"\",\n        \"description\": \"\"\n      }\n    },\n    {\n      \"column\": \"bigram\",\n      \"properties\": {\n        \"dtype\": \"number\",\n        \"std\": 0.059246316379400726,\n        \"min\": 2.26986026763916,\n        \"max\": 2.3870468139648438,\n        \"num_unique_values\": 3,\n        \"samples\": [\n          2.3870468139648438,\n          2.3132593631744385,\n          2.26986026763916\n        ],\n        \"semantic_type\": \"\",\n        \"description\": \"\"\n      }\n    }\n  ]\n}"
            }
          },
          "metadata": {},
          "execution_count": 110
        }
      ]
    },
    {
      "cell_type": "code",
      "source": [
        "losse_hist = {\n",
        "    \"Trigram\":trigram_model.history.values(),\n",
        "    \"Bigram\":bigram_model.history.values()\n",
        "}\n",
        "loss_df = pd.DataFrame(losse_hist)\n",
        "loss_df.plot()\n",
        "plt.xlabel('Epochs')\n",
        "plt.ylabel('Loss')\n",
        "plt.tight_layout()\n",
        "plt.show()\n",
        "losse_hist"
      ],
      "metadata": {
        "colab": {
          "base_uri": "https://localhost:8080/",
          "height": 880
        },
        "id": "bxv0Bpr_0JCP",
        "outputId": "b6e0ad84-f70c-4b6d-c567-e8ec6bc3bcb9"
      },
      "execution_count": 112,
      "outputs": [
        {
          "output_type": "display_data",
          "data": {
            "text/plain": [
              "<Figure size 640x480 with 1 Axes>"
            ],
            "image/png": "[encoded data removed]"
          },
          "metadata": {}
        },
        {
          "output_type": "execute_result",
          "data": {
            "text/plain": [
              "{'Trigram': dict_values([2.23980975151062, 2.235060214996338, 2.2309532165527344, 2.2273168563842773, 2.2240407466888428, 2.2210500240325928, 2.218292713165283, 2.2157299518585205, 2.2133331298828125, 2.211080312728882, 2.208953380584717, 2.2069385051727295, 2.2050235271453857, 2.2031991481781006, 2.201456069946289, 2.1997873783111572, 2.1981863975524902, 2.196647882461548, 2.195166826248169, 2.193739175796509, 2.1923606395721436, 2.191028118133545, 2.1897385120391846, 2.188488483428955, 2.1872761249542236, 2.1860992908477783, 2.1849558353424072, 2.1838436126708984, 2.18276047706604, 2.181706190109253, 2.180678367614746, 2.179675817489624, 2.178697109222412, 2.177741765975952, 2.1768081188201904, 2.1758956909179688, 2.1750028133392334, 2.1741297245025635, 2.173274517059326, 2.1724374294281006, 2.171617031097412, 2.1708128452301025, 2.1700246334075928, 2.1692514419555664, 2.1684930324554443, 2.16774845123291, 2.167017698287964, 2.166299819946289, 2.1655945777893066, 2.1649014949798584, 2.1642208099365234, 2.1635513305664062, 2.162893295288086, 2.162245988845825, 2.161608934402466, 2.160982131958008, 2.160365343093872, 2.1597583293914795, 2.1591601371765137, 2.158571481704712, 2.157991409301758, 2.1574199199676514, 2.1568570137023926, 2.156301975250244, 2.1557552814483643, 2.1552159786224365, 2.154684066772461, 2.1541597843170166, 2.1536426544189453, 2.153132438659668, 2.1526291370391846, 2.152132511138916, 2.151642322540283, 2.151158571243286, 2.1506807804107666, 2.150209426879883, 2.1497440338134766, 2.1492843627929688, 2.1488301753997803, 2.148381471633911, 2.1479382514953613, 2.147500514984131, 2.1470677852630615, 2.1466403007507324, 2.1462178230285645, 2.1457998752593994, 2.1453874111175537, 2.1449790000915527, 2.144575595855713, 2.1441762447357178, 2.143781900405884, 2.1433911323547363, 2.143005132675171, 2.14262318611145, 2.142245054244995, 2.141871452331543, 2.1415016651153564, 2.1411354541778564, 2.140773057937622, 2.1404144763946533]),\n",
              " 'Bigram': dict_values([2.3230419158935547, 2.3207266330718994, 2.318657636642456, 2.316781520843506, 2.315063238143921, 2.3134772777557373, 2.3120052814483643, 2.310631513595581, 2.3093435764312744, 2.3081319332122803, 2.306988000869751, 2.3059043884277344, 2.304875373840332, 2.3038949966430664, 2.3029587268829346, 2.302063226699829, 2.3012046813964844, 2.300380229949951, 2.299586534500122, 2.2988219261169434, 2.298084020614624, 2.2973709106445312, 2.2966806888580322, 2.2960119247436523, 2.295363664627075, 2.294734239578247, 2.2941229343414307, 2.2935283184051514, 2.2929491996765137, 2.2923855781555176, 2.2918362617492676, 2.291299819946289, 2.2907769680023193, 2.2902657985687256, 2.289766550064087, 2.289278268814087, 2.2888007164001465, 2.288332939147949, 2.2878754138946533, 2.287426710128784, 2.286987543106079, 2.2865567207336426, 2.2861342430114746, 2.285719633102417, 2.2853126525878906, 2.2849128246307373, 2.2845206260681152, 2.284134864807129, 2.2837560176849365, 2.28338360786438, 2.28301739692688, 2.2826569080352783, 2.2823028564453125, 2.281953811645508, 2.2816107273101807, 2.2812728881835938, 2.280939817428589, 2.2806122303009033, 2.2802894115448, 2.279971122741699, 2.2796573638916016, 2.279348373413086, 2.279043674468994, 2.278743028640747, 2.278446674346924, 2.2781543731689453, 2.2778658866882324, 2.277581214904785, 2.2773003578186035, 2.2770230770111084, 2.276749610900879, 2.2764792442321777, 2.276212453842163, 2.275949001312256, 2.275688409805298, 2.2754316329956055, 2.275177478790283, 2.2749266624450684, 2.2746784687042236, 2.274433135986328, 2.27419114112854, 2.273951530456543, 2.273714542388916, 2.2734806537628174, 2.2732491493225098, 2.273020029067993, 2.2727935314178467, 2.272569417953491, 2.272347927093506, 2.2721285820007324, 2.271911859512329, 2.2716970443725586, 2.271484375, 2.2712740898132324, 2.271066188812256, 2.270859956741333, 2.2706563472747803, 2.270454168319702, 2.270254373550415, 2.2700564861297607])}"
            ]
          },
          "metadata": {},
          "execution_count": 112
        }
      ]
    }
  ]
}