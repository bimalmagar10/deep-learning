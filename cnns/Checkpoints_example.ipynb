{
  "cells": [
    {
      "cell_type": "code",
      "execution_count": 6,
      "metadata": {
        "id": "OuMTuHB2l00n"
      },
      "outputs": [],
      "source": [
        "# Simple Model\n",
        "class HelloModel(nn.Module):\n",
        "  def __init__(self):\n",
        "    super().__init__()\n",
        "    self.net = nn.Sequential(OrderedDict([\n",
        "        (\"conv1\",nn.Conv2d(in_channels=1,out_channels=16,kernel_size=3, padding=1)),\n",
        "        (\"relu1\",nn.ReLU()),\n",
        "        (\"s1\",nn.MaxPool2d(kernel_size=2,stride=2)),\n",
        "        (\"conv2\",nn.Conv2d(16, 32, kernel_size=3, padding=1)),\n",
        "        (\"relu2\",nn.ReLU()),\n",
        "        (\"s2\",nn.MaxPool2d(kernel_size=2,stride=2))\n",
        "    ]))\n",
        "\n",
        "    self.classifier = nn.Sequential(OrderedDict([\n",
        "        (\"fc1\",nn.Linear(in_features=32 * 7 * 7, out_features=128)),\n",
        "        (\"fc2\",nn.Linear(in_features=128,out_features=10))\n",
        "        ]))\n",
        "\n",
        "\n",
        "  def forward(self,x):\n",
        "    x = self.net(x)\n",
        "    x = x.view(-1, 32 * 7 * 7)\n",
        "    return self.classifier(x)\n"
      ]
    },
    {
      "cell_type": "code",
      "execution_count": 32,
      "metadata": {
        "id": "jdpmcxwp5LRy"
      },
      "outputs": [],
      "source": [
        "transform = transforms.Compose([transforms.ToTensor()])\n",
        "dataset = datasets.MNIST('./data/mnist',train=True, download=True, transform=transform)\n",
        "\n",
        "train_size = int(0.8 * len(dataset)) # 80% of the dataset in training\n",
        "val_size = len(dataset) - train_size # 20% of the dataset in validation\n",
        "\n",
        "data_train,data_val = random_split(dataset,[train_size,val_size],generator=torch.Generator().manual_seed(42))\n",
        "data_train_loader = DataLoader(data_train,batch_size = 64, shuffle=True,num_workers=0)\n",
        "data_val_loader = DataLoader(data_val,batch_size=64,shuffle=False,num_workers=0)"
      ]
    },
    {
      "cell_type": "code",
      "execution_count": 37,
      "metadata": {
        "id": "TaZuV2qG6J0u"
      },
      "outputs": [],
      "source": [
        "def train(model,train_loader,val_loader,criterion,optimizer,start_epoch=0,num_epochs = 10,checkpoint_path=\"checkpoint.pth\"):\n",
        "  best_loss = float('inf')\n",
        "  for epoch in range(start_epoch,num_epochs):\n",
        "    model.train()\n",
        "    train_loss = 0.0\n",
        "\n",
        "    for images,classes in train_loader:\n",
        "      optimizer.zero_grad()\n",
        "      output = model(images)\n",
        "      loss = criterion(output,classes)\n",
        "      loss.backward()\n",
        "      optimizer.step()\n",
        "      train_loss += loss.item()\n",
        "\n",
        "    train_loss /= len(train_loader)\n",
        "\n",
        "    #Validation from here\n",
        "    model.eval()\n",
        "    val_loss = 0.0\n",
        "\n",
        "    with torch.no_grad():\n",
        "      for images,labels in val_loader:\n",
        "          output = model(images)\n",
        "          loss = criterion(output,labels)\n",
        "          val_loss += loss.item()\n",
        "\n",
        "    val_loss /= len(val_loader)\n",
        "\n",
        "    print(f\"Epoch {epoch+1}: Train Loss = {train_loss:.4f}, Val Loss = {val_loss:.4f}\")\n",
        "\n",
        "    if val_loss < best_loss:\n",
        "      best_loss = val_loss\n",
        "      torch.save({\n",
        "          \"epoch\":epoch+1,\n",
        "          \"model_state_dict\":model.state_dict(),\n",
        "          \"optimizer_state_dict\":optimizer.state_dict(),\n",
        "          \"loss\":val_loss\n",
        "      },checkpoint_path)\n",
        "      print(f\"Saved best model at epoch {epoch + 1} with loss {best_loss:.4f}\")\n",
        "    else:\n",
        "      print(f\"Skipping save at epoch {epoch + 1} as loss did not improve\")\n",
        "\n"
      ]
    },
    {
      "cell_type": "code",
      "execution_count": 2,
      "metadata": {
        "id": "0DELAw518euN"
      },
      "outputs": [],
      "source": [
        "def load_checkpoint(model,optimizer,checkpoint_path):\n",
        "  checkpoint = torch.load(checkpoint_path)\n",
        "  model.load_state_dict(checkpoint[\"model_state_dict\"])\n",
        "  optimizer.load_state_dict(checkpoint[\"optimizer_state_dict\"])\n",
        "  start_epoch = checkpoint[\"epoch\"]\n",
        "  print(f\"Resuming from epoch {start_epoch}, Best Loss: {checkpoint['loss']:.4f}\")\n",
        "  return start_epoch"
      ]
    },
    {
      "cell_type": "code",
      "execution_count": 40,
      "metadata": {
        "id": "MeF89MnqJoif"
      },
      "outputs": [],
      "source": [
        "def test(model,test_loader,criterion,checkpoint_path):\n",
        "  checkpoint = torch.load(checkpoint_path)\n",
        "  model.load_state_dict(checkpoint[\"model_state_dict\"])\n",
        "  model.eval()\n",
        "\n",
        "  test_loss = 0.0\n",
        "  total = 0.0\n",
        "  correct = 0.0\n",
        "\n",
        "  with torch.no_grad():\n",
        "    for images,labels in test_loader:\n",
        "      output = model(images)\n",
        "      loss = criterion(output,labels)\n",
        "      test_loss += loss.item()\n",
        "      predicted = output.detach().max(1)[1]\n",
        "      # _,predicted = torch.max(output,1)\n",
        "      correct += predicted.eq(labels.view_as(predicted)).sum()\n",
        "      total += labels.size(0)\n",
        "\n",
        "  test_loss /= len(test_loader)\n",
        "  accuracy = correct / total\n",
        "  print(f\"Test Loss: {test_loss:.4f}, Accuracy: {accuracy:.4f}\")\n"
      ]
    },
    {
      "cell_type": "code",
      "execution_count": 39,
      "metadata": {
        "id": "hcplYK6KJSzM"
      },
      "outputs": [],
      "source": [
        "data_test = datasets.MNIST('./data/mnist',download=True,train=False,transform=transform)\n",
        "data_test_loader = DataLoader(data_test,batch_size = 64, shuffle=False,num_workers=0)"
      ]
    },
    {
      "cell_type": "code",
      "execution_count": 38,
      "metadata": {
        "colab": {
          "base_uri": "https://localhost:8080/"
        },
        "id": "Yu-vzAaG9hMr",
        "outputId": "7d832d8b-a6e5-4981-b508-096ca9c65d03"
      },
      "outputs": [
        {
          "name": "stdout",
          "output_type": "stream",
          "text": [
            "Epoch 1: Train Loss = 0.2255, Val Loss = 0.0909\n",
            "Saved best model at epoch 1 with loss 0.0909\n",
            "Epoch 2: Train Loss = 0.0681, Val Loss = 0.0686\n",
            "Saved best model at epoch 2 with loss 0.0686\n",
            "Epoch 3: Train Loss = 0.0479, Val Loss = 0.0618\n",
            "Saved best model at epoch 3 with loss 0.0618\n",
            "Epoch 4: Train Loss = 0.0404, Val Loss = 0.0595\n",
            "Saved best model at epoch 4 with loss 0.0595\n",
            "Epoch 5: Train Loss = 0.0340, Val Loss = 0.0515\n",
            "Saved best model at epoch 5 with loss 0.0515\n",
            "Epoch 6: Train Loss = 0.0290, Val Loss = 0.0517\n",
            "Skipping save at epoch 6 as loss did not improve\n",
            "Epoch 7: Train Loss = 0.0230, Val Loss = 0.0525\n",
            "Skipping save at epoch 7 as loss did not improve\n",
            "Epoch 8: Train Loss = 0.0218, Val Loss = 0.0567\n",
            "Skipping save at epoch 8 as loss did not improve\n",
            "Epoch 9: Train Loss = 0.0170, Val Loss = 0.0519\n",
            "Skipping save at epoch 9 as loss did not improve\n",
            "Epoch 10: Train Loss = 0.0171, Val Loss = 0.0450\n",
            "Saved best model at epoch 10 with loss 0.0450\n"
          ]
        }
      ],
      "source": [
        "model = HelloModel()\n",
        "criterion = nn.CrossEntropyLoss()\n",
        "optimizer = torch.optim.Adam(model.parameters(),lr=0.001)\n",
        "\n",
        "import os\n",
        "if os.path.exists(\"checkpoint.pth\"):\n",
        "  start_epoch = load_checkpoint(model,optimizer,\"checkpoint.pth\")\n",
        "else:\n",
        "  start_epoch = 0\n",
        "\n",
        "train(model,data_train_loader,data_val_loader,criterion,optimizer,start_epoch,10,\"checkpoint.pth\")\n"
      ]
    },
    {
      "cell_type": "code",
      "execution_count": 42,
      "metadata": {
        "colab": {
          "base_uri": "https://localhost:8080/"
        },
        "id": "JsfbtcBZM5kw",
        "outputId": "dc4d0910-8b98-4160-f89f-3a24d1c61780"
      },
      "outputs": [
        {
          "name": "stderr",
          "output_type": "stream",
          "text": [
            "<ipython-input-40-aca585d07075>:2: FutureWarning: You are using `torch.load` with `weights_only=False` (the current default value), which uses the default pickle module implicitly. It is possible to construct malicious pickle data which will execute arbitrary code during unpickling (See https://github.com/pytorch/pytorch/blob/main/SECURITY.md#untrusted-models for more details). In a future release, the default value for `weights_only` will be flipped to `True`. This limits the functions that could be executed during unpickling. Arbitrary objects will no longer be allowed to be loaded via this mode unless they are explicitly allowlisted by the user via `torch.serialization.add_safe_globals`. We recommend you start setting `weights_only=True` for any use case where you don't have full control of the loaded file. Please open an issue on GitHub for any issues related to this experimental feature.\n",
            "  checkpoint = torch.load(checkpoint_path)\n"
          ]
        },
        {
          "name": "stdout",
          "output_type": "stream",
          "text": [
            "Test Loss: 0.0360, Accuracy: 0.9890\n"
          ]
        }
      ],
      "source": [
        "test(model,data_test_loader,criterion,\"checkpoint.pth\")"
      ]
    },
    {
      "cell_type": "code",
      "execution_count": 64,
      "metadata": {
        "colab": {
          "base_uri": "https://localhost:8080/",
          "height": 449
        },
        "id": "VbFY-Xe-NYSK",
        "outputId": "e37dbbb9-20ff-493c-8f7e-33b6182103ae"
      },
      "outputs": [
        {
          "data": {
            "image/png": "[encoded data removed]",
            "text/plain": [
              "<Figure size 1600x800 with 20 Axes>"
            ]
          },
          "metadata": {},
          "output_type": "display_data"
        }
      ],
      "source": [
        "from matplotlib import pyplot as plt\n",
        "\n",
        "images,labels = next(iter(data_test_loader))\n",
        "output = model(images)\n",
        "predict = output.detach().max(1)[1]\n",
        "random_indices = torch.randperm(len(images))[:10]\n",
        "\n",
        "fig,axes = plt.subplots(2,10,figsize=(16,8))\n",
        "\n",
        "with torch.no_grad():\n",
        "  for idx,rand_idx in enumerate(random_indices):\n",
        "    ax_original = axes[0,idx]\n",
        "    ax_predicted = axes[1,idx]\n",
        "\n",
        "    ax_original.imshow(images[rand_idx].squeeze(),cmap=\"gray\")\n",
        "    ax_original.set_title(f\"Original {labels[rand_idx].item()}\", color=\"green\")\n",
        "    ax_original.axis('off')\n",
        "\n",
        "    ax_predicted.imshow(images[rand_idx].squeeze(),cmap=\"gray\")\n",
        "    ax_predicted.set_title(f\"Predicted {predict[rand_idx].item()}\",color = \"green\" if labels[rand_idx].item() == predict[rand_idx].item() else \"red\")\n",
        "    ax_predicted.axis('off')\n",
        "\n",
        "  fig.tight_layout()\n",
        "  plt.show()"
      ]
    }
  ],
  "metadata": {
    "accelerator": "TPU",
    "colab": {
      "gpuType": "V28",
      "provenance": []
    },
    "kernelspec": {
      "display_name": "Python 3",
      "name": "python3"
    },
    "language_info": {
      "name": "python"
    }
  },
  "nbformat": 4,
  "nbformat_minor": 0
}
