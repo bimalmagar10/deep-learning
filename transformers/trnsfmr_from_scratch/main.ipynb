{
 "cells": [
  {
   "cell_type": "code",
   "execution_count": 33,
   "id": "a0687015-483f-4acb-848a-2f93efe7d510",
   "metadata": {},
   "outputs": [
    {
     "data": {
      "text/plain": [
       "<module 'models.embedding' from '/Users/bimalmgr/Downloads/deep_learning/transformers/trnsfmr_from_scratch/models/embedding.py'>"
      ]
     },
     "execution_count": 33,
     "metadata": {},
     "output_type": "execute_result"
    }
   ],
   "source": [
    "import importlib\n",
    "import utils.data_loader\n",
    "import utils.tokenize\n",
    "import models.embedding\n",
    "\n",
    "#For reloading\n",
    "importlib.reload(utils.data_loader)\n",
    "importlib.reload(utils.tokenize)\n",
    "importlib.reload(models.embedding)"
   ]
  },
  {
   "cell_type": "code",
   "execution_count": 34,
   "id": "04707c00-2a11-45c3-9b67-addcea9612d5",
   "metadata": {},
   "outputs": [],
   "source": [
    "from utils.data_loader import DataLoader\n",
    "from utils.tokenize import Tokenizer\n",
    "from data import en,es\n",
    "from models.embedding import Embeddings\n",
    "from data import en,es\n",
    "import torch\n",
    "import torch.nn as nn"
   ]
  },
  {
   "cell_type": "code",
   "execution_count": 38,
   "id": "4c5d510d-f35b-4fce-871c-e8f5670499ba",
   "metadata": {},
   "outputs": [],
   "source": [
    "def reload_modules():\n",
    "    %load_ext autoreload\n",
    "    %autoreload 2"
   ]
  },
  {
   "cell_type": "code",
   "execution_count": 86,
   "id": "2693b3b3-699c-46a5-96dc-7bcbb04dccd5",
   "metadata": {},
   "outputs": [
    {
     "name": "stdout",
     "output_type": "stream",
     "text": [
      "The autoreload extension is already loaded. To reload it, use:\n",
      "  %reload_ext autoreload\n",
      "This is the implementation of transformer from scratch in PyTorch.........!!\n",
      "Initializing the data loader........\n",
      "train [{'src': ['<sos>', 'Mi', 'nombre', '<eos>'], 'trg': ['<sos>', 'My', 'name', '<eos>']}, {'src': ['<sos>', 'es', 'Bimal', '!', '!', '<eos>'], 'trg': ['<sos>', 'is', 'Bimal', '!', '!', '<eos>']}] val [] test [{'src': ['<sos>', '@', '1', '23', '*', ';', '.', '<eos>'], 'trg': ['<sos>', '@', '1', '23', '*', ';', '.', '<eos>']}]\n",
      "Building Spanish Vocabulary.....\n",
      "Done Building Spanish Vocabulary!\n",
      "Buidling English Vocabulary.........\n",
      "Done building English Vocabulary!\n",
      "{'Bimal': 11, '23': 8, '1': 7, '.': 6, 'es': 13, '*': 5, '!': 4, ';': 9, '<sos>': 2, 'nombre': 14, 'Mi': 12, '@': 10, '<eos>': 3, '<pad>': 1, '<unk>': 0}\n",
      "{'is': 13, 'Bimal': 11, '23': 8, '1': 7, 'name': 14, '.': 6, '*': 5, '!': 4, ';': 9, '<sos>': 2, '@': 10, '<eos>': 3, 'My': 12, '<pad>': 1, '<unk>': 0}\n",
      "tensor([[-0.2161, -0.6904,  0.3229,  ...,  1.8282, -0.1992, -2.0249],\n",
      "        [-0.8740,  0.1174, -0.1476,  ..., -0.6801,  0.3234, -1.4213]],\n",
      "       grad_fn=<EmbeddingBackward0>)\n"
     ]
    }
   ],
   "source": [
    "def main():\n",
    "    reload_modules()\n",
    "    print(\"This is the implementation of transformer from scratch in PyTorch.........!!\")\n",
    "    tokenizer = Tokenizer()\n",
    "    data_loader = DataLoader(\n",
    "        tokenize_source=tokenizer.tokenize_source,\n",
    "        tokenize_target=tokenizer.tokenize_target\n",
    "    )\n",
    "    # train_set,valid_set,test_set = data_loader.make_dataset(es,en)\n",
    "    # vocab_src,vocab_trg = data_loader.build_vocab(train_set,valid_set,test_set)\n",
    "    # for word,index in vocab_trg.get_stoi().items():\n",
    "    #     print(word,index)\n",
    "    # print(f\"Tokenized source example: {tokenizer.tokenize_source('Mi nombre es Bimal !! @ 1 23 * ;.')}\")\n",
    "    # print(f\"Tokenized target example: {tokenizer.tokenize_target('My name is Bimal !! @ 1 23 * ;.')}\")\n",
    "    # print(f\"Dataset examples: {data_loader.make_dataset(['Mi nombre es Bimal !! @ 1 23 * ;.'],['My name is Bimal !! @ 1 23 * ;.'])}\")\n",
    "    s_tr,s_v,s_te = data_loader.make_dataset(['Mi nombre ','es Bimal !!','@ 1 23 * ;.'],['My name','is Bimal !!','@ 1 23 * ;.'])\n",
    "    print(\"train\",s_tr,\"val\",s_v,\"test\",s_te)\n",
    "    s_v,s_t = data_loader.build_vocab(s_tr,s_v,s_te)\n",
    "    print(s_v.get_stoi())\n",
    "    print(s_t.get_stoi())\n",
    "    # print(\"Source vobularies:\",vocab_src)\n",
    "    embed = nn.Embedding(len(s_v),512)\n",
    "    print(embed(torch.tensor([s_v.get_stoi()['Bimal'],s_v.get_stoi()['nombre']])))\n",
    "    # print(embed(torch.tensor(vocab_src.get_stoi()['víctimas'])))\n",
    "main()"
   ]
  }
 ],
 "metadata": {
  "kernelspec": {
   "display_name": "Transformer-Scratch",
   "language": "python",
   "name": "trfmr-scratch"
  },
  "language_info": {
   "codemirror_mode": {
    "name": "ipython",
    "version": 3
   },
   "file_extension": ".py",
   "mimetype": "text/x-python",
   "name": "python",
   "nbconvert_exporter": "python",
   "pygments_lexer": "ipython3",
   "version": "3.11.13"
  }
 },
 "nbformat": 4,
 "nbformat_minor": 5
}
