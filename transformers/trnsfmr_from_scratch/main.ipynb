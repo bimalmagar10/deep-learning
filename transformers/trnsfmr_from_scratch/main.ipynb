{
 "cells": [
  {
   "cell_type": "code",
   "execution_count": 1,
   "id": "a0687015-483f-4acb-848a-2f93efe7d510",
   "metadata": {},
   "outputs": [
    {
     "name": "stdout",
     "output_type": "stream",
     "text": [
      "Randiko Baan!!\n"
     ]
    },
    {
     "data": {
      "text/plain": [
       "<module 'models.nn' from 'C:\\\\Users\\\\bthapama\\\\Downloads\\\\projects\\\\deep-learning\\\\transformers\\\\trnsfmr_from_scratch\\\\models\\\\nn.py'>"
      ]
     },
     "execution_count": 1,
     "metadata": {},
     "output_type": "execute_result"
    }
   ],
   "source": [
    "import importlib\n",
    "import utils.data_loader\n",
    "import utils.tokenize\n",
    "import models.embedding\n",
    "import models.nn\n",
    "\n",
    "#For reloading\n",
    "importlib.reload(utils.data_loader)\n",
    "importlib.reload(utils.tokenize)\n",
    "importlib.reload(models.embedding)\n",
    "importlib.reload(models.nn)"
   ]
  },
  {
   "cell_type": "code",
   "execution_count": 2,
   "id": "04707c00-2a11-45c3-9b67-addcea9612d5",
   "metadata": {},
   "outputs": [],
   "source": [
    "from utils.data_loader import DataLoader\n",
    "from utils.tokenize import Tokenizer\n",
    "from data import en,es\n",
    "from models.embedding import Embeddings\n",
    "from data import en,es\n",
    "import torch\n",
    "import torch.nn as nn"
   ]
  },
  {
   "cell_type": "code",
   "execution_count": 3,
   "id": "4c5d510d-f35b-4fce-871c-e8f5670499ba",
   "metadata": {},
   "outputs": [],
   "source": [
    "def reload_modules():\n",
    "    %load_ext autoreload\n",
    "    %autoreload 2"
   ]
  },
  {
   "cell_type": "code",
   "execution_count": 67,
   "id": "2693b3b3-699c-46a5-96dc-7bcbb04dccd5",
   "metadata": {},
   "outputs": [
    {
     "name": "stdout",
     "output_type": "stream",
     "text": [
      "The autoreload extension is already loaded. To reload it, use:\n",
      "  %reload_ext autoreload\n",
      "This is the implementation of transformer from scratch in PyTorch.........!!\n",
      "Initializing the data loader........\n",
      "train [{'src': ['<sos>', 'Mi', 'nombre', '<eos>'], 'trg': ['<sos>', 'My', 'name', '<eos>']}, {'src': ['<sos>', 'es', 'Bimal', '!', '!', '<eos>'], 'trg': ['<sos>', 'is', 'Bimal', '!', '!', '<eos>']}] val [] test [{'src': ['<sos>', '@', '1', '23', '*', ';', '.', '<eos>'], 'trg': ['<sos>', '@', '1', '23', '*', ';', '.', '<eos>']}]\n",
      "Building Spanish Vocabulary.....\n",
      "Done Building Spanish Vocabulary!\n",
      "Buidling English Vocabulary.........\n",
      "Done building English Vocabulary!\n",
      "{'.': 6, '<unk>': 0, '<eos>': 3, '<pad>': 1, '1': 7, '!': 4, '<sos>': 2, '*': 5, '23': 8, ';': 9, '@': 10, 'Bimal': 11, 'Mi': 12, 'es': 13, 'nombre': 14}\n",
      "{'.': 6, '<unk>': 0, '<eos>': 3, '<pad>': 1, '1': 7, '!': 4, '<sos>': 2, '*': 5, '23': 8, ';': 9, '@': 10, 'Bimal': 11, 'My': 12, 'is': 13, 'name': 14}\n",
      "tensor([[-0.7871, -0.7761,  1.7837,  0.2280,  0.6028],\n",
      "        [-0.9678, -1.3008, -1.0393,  0.0677, -0.2366]],\n",
      "       grad_fn=<EmbeddingBackward0>)\n"
     ]
    }
   ],
   "source": [
    "reload_modules()\n",
    "print(\"This is the implementation of transformer from scratch in PyTorch.........!!\")\n",
    "tokenizer = Tokenizer()\n",
    "data_loader = DataLoader(\n",
    "    tokenize_source=tokenizer.tokenize_source,\n",
    "    tokenize_target=tokenizer.tokenize_target\n",
    ")\n",
    "# train_set,valid_set,test_set = data_loader.make_dataset(es,en)\n",
    "# vocab_src,vocab_trg = data_loader.build_vocab(train_set,valid_set,test_set)\n",
    "# for word,index in vocab_trg.get_stoi().items():\n",
    "#     print(word,index)\n",
    "# print(f\"Tokenized source example: {tokenizer.tokenize_source('Mi nombre es Bimal !! @ 1 23 * ;.')}\")\n",
    "# print(f\"Tokenized target example: {tokenizer.tokenize_target('My name is Bimal !! @ 1 23 * ;.')}\")\n",
    "# print(f\"Dataset examples: {data_loader.make_dataset(['Mi nombre es Bimal !! @ 1 23 * ;.'],['My name is Bimal !! @ 1 23 * ;.'])}\")\n",
    "s_tr,s_v,s_te = data_loader.make_dataset(['Mi nombre ','es Bimal !!','@ 1 23 * ;.'],['My name','is Bimal !!','@ 1 23 * ;.'])\n",
    "print(\"train\",s_tr,\"val\",s_v,\"test\",s_te)\n",
    "s_v,s_t = data_loader.build_vocab(s_tr,s_v,s_te)\n",
    "print(s_v.get_stoi())\n",
    "print(s_t.get_stoi())\n",
    "# print(\"Source vobularies:\",vocab_src)\n",
    "embed = nn.Embedding(len(s_v),5)\n",
    "print(embed(torch.tensor([s_v.get_stoi()['Bimal'],s_v.get_stoi()['nombre']])))\n",
    "# print(embed(torch.tensor(vocab_src.get_stoi()['víctimas'])))\n"
   ]
  },
  {
   "cell_type": "code",
<<<<<<< HEAD
   "execution_count": null,
=======
   "execution_count": 60,
>>>>>>> b900afee81e6cee4b81f04e9f89746ed94b08816
   "id": "7453ead9-cb25-4ff2-a85b-6bdea2cf9a57",
   "metadata": {},
   "outputs": [
    {
     "name": "stdout",
     "output_type": "stream",
     "text": [
      "Input: tensor([[ 0.6271, -1.2618, -0.3807, -0.6918,  0.7634],\n",
      "        [-0.1875,  1.6113,  0.6880, -0.4036,  1.9994]]);\n",
      " Weights: Parameter containing:\n",
      "tensor([[ 0.2309,  0.4206,  0.4451,  0.0491,  0.3610],\n",
      "        [ 0.3737, -0.2318, -0.0805,  0.0241,  0.2285],\n",
      "        [-0.2414,  0.3364, -0.1253,  0.1699,  0.1518],\n",
      "        [ 0.0215,  0.1809,  0.3462, -0.2634,  0.2856],\n",
      "        [-0.3993,  0.3305,  0.3444, -0.1410, -0.0621]], requires_grad=True) \n",
      " Bias:Parameter containing:\n",
      "tensor([ 0.1532, -0.0011,  0.4257,  0.0920,  0.1974], requires_grad=True) \n",
      " After transformation: tensor([[-0.1605,  0.7142, -0.1042,  0.1457, -0.5511],\n",
      "        [ 1.7958, -0.0529,  1.1616,  1.2948,  0.9745]],\n",
      "       grad_fn=<AddmmBackward0>)\n",
      "\n"
     ]
    }
   ],
   "source": [
    "m =  nn.Linear(5,5)\n",
    "input = torch.randn(2,5)\n",
    "print(f\"Input: {input};\\n Weights: {m.weight} \\n Bias:{m.bias} \\n After transformation: {m(input)}\\n\")"
   ]
  },
  {
   "cell_type": "code",
   "execution_count": 62,
   "id": "62b7c627-cfb2-480d-88c8-2fd88c30e247",
   "metadata": {},
   "outputs": [
    {
     "name": "stdout",
     "output_type": "stream",
     "text": [
      "xA^T + b\n",
      "tensor([[ 0.0317,  1.0852, -0.1520,  0.2692,  1.0627],\n",
      "        [-0.4348,  0.2320,  0.5764, -0.3571, -0.0219]])\n"
     ]
    }
   ],
   "source": [
    "print(f\"xA^T + b\") # This transformation applies after the nn.Linear is applied.\n",
    "x = torch.tensor([[-0.3074,  1.5631,  0.5804, -1.0671, -0.6132],\n",
    "        [-0.1582, -0.2556, -0.1892,  0.0084,  0.7520]])\n",
    "w = torch.tensor([[-0.1351,  0.0465,  0.2974,  0.0119, -0.1067],\n",
    "        [-0.2380,  0.2958,  0.1583,  0.0208, -0.1320],\n",
    "        [-0.3229, -0.1220, -0.2476,  0.1831,  0.1225],\n",
    "        [ 0.0242,  0.0074,  0.0925, -0.2421, -0.2087],\n",
    "        [ 0.2182, -0.0354,  0.2494, -0.3794, -0.4260]])\n",
    "b = torch.tensor([-0.3079,  0.3990,  0.3536, -0.1749,  0.3743])\n",
    "a = x @ w.t()\n",
    "o = a + b\n",
    "print(o)"
   ]
  },
  {
   "cell_type": "code",
   "execution_count": 68,
   "id": "d3a86204-016e-4bd3-a258-1f54be028521",
   "metadata": {},
   "outputs": [
    {
     "name": "stdout",
     "output_type": "stream",
     "text": [
      "(tensor([[ 0.5320,  0.3012, -0.8462,  0.7496,  0.5665]], grad_fn=<MmBackward0>), tensor([[ 0.6857, -0.6140,  1.0555,  1.3213,  1.1982]], grad_fn=<MmBackward0>), tensor([[-0.0149,  0.3404, -1.0829,  0.5222,  0.0796]], grad_fn=<MmBackward0>))\n"
     ]
    }
   ],
   "source": [
    "from models.scaled_dot_product_attention import ScaledDotProductAttention\n",
    "\n",
<<<<<<< HEAD
    "input_size, hidden_size, output_size = 3, 4, 2\n",
    "# model_scratch = MLPFromScratch(input_size, hidden_size, output_size)\n",
    "# print(len(model_scratch.W1))\n",
    "# print(len(model_scratch.W2))\n",
    "model_pytorch = MLPPyTorch(input_size, hidden_size, output_size)\n",
    "\n",
    "# # Test input\n",
    "# test_input_list = [1.0, 2.0, 3.0]  # For scratch version\n",
    "# test_input_tensor = torch.tensor([1.0, 2.0, 3.0])  # For PyTorch version\n",
    "\n",
    "# print(\"1. FROM SCRATCH VERSION:\")\n",
    "# print(f\"   Input: {test_input_list}\")\n",
    "\n",
    "# # Show step-by-step for scratch version\n",
    "# print(\"   Step-by-step breakdown:\")\n",
    "\n",
    "# Step 1: Matrix multiplication for layer 1\n",
    "# hidden = model_scratch.matrix_multiply(model_scratch.W1, test_input_list)\n",
    "# hidden = model_scratch.add_bias(hidden, model_scratch.b1)\n",
    "# print(f\"   After layer 1 (before ReLU): {hidden}\")\n",
    "\n",
    "# # Step 2: ReLU activation\n",
    "# hidden = model_scratch.relu(hidden)\n",
    "# print(f\"   After ReLU activation: {hidden}\")\n",
    "\n",
    "# # Step 3: Matrix multiplication for layer 2\n",
    "# output = model_scratch.matrix_multiply(model_scratch.W2, hidden)\n",
    "# output = model_scratch.add_bias(output, model_scratch.b2)\n",
    "# print(f\"   Final output: {output}\")\n",
    "\n",
    "# # Complete forward pass\n",
    "# full_output = model_scratch.forward(test_input_list)\n",
    "# print(f\"   Complete forward pass: {full_output}\\n\")\n",
    "\n",
    "test_input_tensor = torch.tensor([1.0, 2.0, 3.0])  # For PyTorch version\n",
    "print(\"2. PYTORCH VERSION:\")\n",
    "print(f\"   Input: {test_input_tensor}\")\n",
    "output_pytorch = model_pytorch(test_input_tensor)\n",
    "print(f\"   Output: {output_pytorch}\")\n",
    "print(f\"   Output as list: {output_pytorch.tolist()}\\n\")\n",
    "print(f\"   Output as list: {output_pytorch.tolist()}\\n\")\n",
    "print(f\"  weights: {model_pytorch.layer1.weight.shape}\\n\")\n",
    "\n"
=======
    "embedded_bimal = embed(torch.tensor([s_v.get_stoi()['Bimal']]))\n",
    "scaled_attention = ScaledDotProductAttention(5)\n",
    "print(scaled_attention.forward(embedded_bimal,embedded_bimal,embedded_bimal))"
>>>>>>> b900afee81e6cee4b81f04e9f89746ed94b08816
   ]
  }
 ],
 "metadata": {
  "kernelspec": {
   "display_name": "Python 3 (ipykernel)",
   "language": "python",
   "name": "python3"
  },
  "language_info": {
   "codemirror_mode": {
    "name": "ipython",
    "version": 3
   },
   "file_extension": ".py",
   "mimetype": "text/x-python",
   "name": "python",
   "nbconvert_exporter": "python",
   "pygments_lexer": "ipython3",
   "version": "3.11.13"
  }
 },
 "nbformat": 4,
 "nbformat_minor": 5
}
